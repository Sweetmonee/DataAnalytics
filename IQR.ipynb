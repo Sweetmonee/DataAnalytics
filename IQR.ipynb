{
  "nbformat": 4,
  "nbformat_minor": 0,
  "metadata": {
    "colab": {
      "provenance": [],
      "authorship_tag": "ABX9TyPUOfLZOtI4DpvEXFAsGfCa",
      "include_colab_link": true
    },
    "kernelspec": {
      "name": "python3",
      "display_name": "Python 3"
    },
    "language_info": {
      "name": "python"
    }
  },
  "cells": [
    {
      "cell_type": "markdown",
      "metadata": {
        "id": "view-in-github",
        "colab_type": "text"
      },
      "source": [
        "<a href=\"https://colab.research.google.com/github/Sweetmonee/DataAnalytics/blob/main/IQR.ipynb\" target=\"_parent\"><img src=\"https://colab.research.google.com/assets/colab-badge.svg\" alt=\"Open In Colab\"/></a>"
      ]
    },
    {
      "cell_type": "code",
      "execution_count": null,
      "metadata": {
        "id": "rMByCgPSm0eI"
      },
      "outputs": [],
      "source": [
        "# ## 이상치를 찾아라\n",
        "# ### 데이터에서 IQR을 활용해 Fare컬럼의 이상치를 찾고, 이상치 데이터의 여성 수를 구하시오\n",
        "df = pd.read_csv('/kaggle/input/titanic/train.csv')\n",
        "# print(df.isnull().sum())\n",
        "Q1 = df['Fare'].quantile(0.25)\n",
        "Q3 = df['Fare'].quantile(0.75)\n",
        "# print(Q1,Q3)\n",
        "IQR = Q3 - Q1\n",
        "Q3_outlier = df[df['Fare'] > Q3 + (1.5 * IQR)]\n",
        "Q1_outlier = df[df['Fare'] < Q1 - (1.5 * IQR)]\n",
        "# print(Q3_outlier,Q1_outlier)\n",
        "Q3_outlier_female = Q3_outlier[Q3_outlier['Sex'] == 'female']\n",
        "Q1_outlier_female = Q1_outlier[Q1_outlier['Sex'] == 'female']\n",
        "# print(Q3_outlier_female,Q3_outlier_female)\n",
        "print(len(Q3_outlier_female),len(Q1_outlier_female))"
      ]
    }
  ]
}