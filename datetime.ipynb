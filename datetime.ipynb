{
  "nbformat": 4,
  "nbformat_minor": 0,
  "metadata": {
    "colab": {
      "provenance": [],
      "authorship_tag": "ABX9TyPF84eVNDolSlNYArUVS81l",
      "include_colab_link": true
    },
    "kernelspec": {
      "name": "python3",
      "display_name": "Python 3"
    },
    "language_info": {
      "name": "python"
    }
  },
  "cells": [
    {
      "cell_type": "markdown",
      "metadata": {
        "id": "view-in-github",
        "colab_type": "text"
      },
      "source": [
        "<a href=\"https://colab.research.google.com/github/Sweetmonee/DataAnalytics/blob/main/datetime.ipynb\" target=\"_parent\"><img src=\"https://colab.research.google.com/assets/colab-badge.svg\" alt=\"Open In Colab\"/></a>"
      ]
    },
    {
      "cell_type": "code",
      "execution_count": null,
      "metadata": {
        "id": "t5-DVT915krF"
      },
      "outputs": [],
      "source": [
        "# # T1-29. 12월인 데이터 수는?\n",
        "\n",
        "# %% [code] {\"execution\":{\"iopub.status.busy\":\"2023-06-23T21:39:22.851959Z\",\"iopub.execute_input\":\"2023-06-23T21:39:22.852325Z\",\"iopub.status.idle\":\"2023-06-23T21:39:22.874162Z\",\"shell.execute_reply.started\":\"2023-06-23T21:39:22.852293Z\",\"shell.execute_reply\":\"2023-06-23T21:39:22.872809Z\"}}\n",
        "import pandas as pd\n",
        "df = pd.read_csv(\"/kaggle/input/bigdatacertificationkr/payment.csv\",parse_dates = ['date'])\n",
        "df1 = df[df['date'].dt.month == 12]\n",
        "answer = len(df1)\n",
        "\n",
        "print(answer)"
      ]
    }
  ]
}