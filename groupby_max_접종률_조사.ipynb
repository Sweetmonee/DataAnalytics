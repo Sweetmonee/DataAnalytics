{
  "nbformat": 4,
  "nbformat_minor": 0,
  "metadata": {
    "colab": {
      "provenance": [],
      "authorship_tag": "ABX9TyPc8knQRVlSKCUSoqahHQuI",
      "include_colab_link": true
    },
    "kernelspec": {
      "name": "python3",
      "display_name": "Python 3"
    },
    "language_info": {
      "name": "python"
    }
  },
  "cells": [
    {
      "cell_type": "markdown",
      "metadata": {
        "id": "view-in-github",
        "colab_type": "text"
      },
      "source": [
        "<a href=\"https://colab.research.google.com/github/Sweetmonee/DataAnalytics/blob/main/groupby_max_%EC%A0%91%EC%A2%85%EB%A5%A0_%EC%A1%B0%EC%82%AC.ipynb\" target=\"_parent\"><img src=\"https://colab.research.google.com/assets/colab-badge.svg\" alt=\"Open In Colab\"/></a>"
      ]
    },
    {
      "cell_type": "code",
      "execution_count": null,
      "metadata": {
        "id": "sIpbR6RoD_54"
      },
      "outputs": [],
      "source": [
        "# %% [code]\n",
        "# 주어진 데이터에서 상위 10개 국가의 접종률 평균과 하위 10개 국가의 접종률 평균을 구하고, 그 차이를 구해보세요\n",
        "# (단, 100%가 넘는 접종률 제거, 소수 첫째자리까지 출력)\n",
        "\n",
        "# - 데이터셋 : ../input/covid-vaccination-vs-death/covid-vaccination-vs-death_ratio.csv\n",
        "# - 오른쪽 상단 copy&edit 클릭 -> 예상문제 풀이 시작\n",
        "# - File -> Editor Type -> Script\n",
        "\n",
        "import pandas as pd\n",
        "import numpy as np\n",
        "df = pd.read_csv('/kaggle/input/covid-vaccination-vs-death/covid-vaccination-vs-death_ratio.csv')\n",
        "# 100%가 넘는 접종률 제거\n",
        "df1 = df[df['ratio'] <= 100]\n",
        "# 날짜 최신으로 그룹바이\n",
        "df2 = df1.groupby(['country'], as_index = False).max()\n",
        "# 다시 정렬\n",
        "df3 = df2.sort_values('ratio', ascending = False).reset_index(drop = True)\n",
        "# 접종률 상위 10개 국가 평균, 하위 10개 국가 평균\n",
        "vaccinated_top10_country_mean = df3.head(10)['ratio'].mean()\n",
        "vaccinated_low10_country_mean = df3.tail(10)['ratio'].mean()\n",
        "\n",
        "answer = abs(vaccinated_top10_country_mean - vaccinated_low10_country_mean)\n",
        "print(answer)\n"
      ]
    }
  ]
}