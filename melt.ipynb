{
  "nbformat": 4,
  "nbformat_minor": 0,
  "metadata": {
    "colab": {
      "provenance": [],
      "authorship_tag": "ABX9TyPYfU4NuSbtowb7GyR5s45H",
      "include_colab_link": true
    },
    "kernelspec": {
      "name": "python3",
      "display_name": "Python 3"
    },
    "language_info": {
      "name": "python"
    }
  },
  "cells": [
    {
      "cell_type": "markdown",
      "metadata": {
        "id": "view-in-github",
        "colab_type": "text"
      },
      "source": [
        "<a href=\"https://colab.research.google.com/github/Sweetmonee/DataAnalytics/blob/main/melt.ipynb\" target=\"_parent\"><img src=\"https://colab.research.google.com/assets/colab-badge.svg\" alt=\"Open In Colab\"/></a>"
      ]
    },
    {
      "cell_type": "code",
      "execution_count": null,
      "metadata": {
        "id": "Kpk8SJwJ6Pcj"
      },
      "outputs": [],
      "source": [
        "# ## Q. 수학, 영어, 국어 점수 중 사람과 과목에 상관없이 가장 상위 점수 5개를 모두 더하고 출력하시오.\n",
        "# - updated 22.12.2\n",
        "\n",
        "# %% [code] {\"execution\":{\"iopub.status.busy\":\"2022-12-02T12:32:52.069246Z\",\"iopub.execute_input\":\"2022-12-02T12:32:52.069778Z\",\"iopub.status.idle\":\"2022-12-02T12:32:52.084757Z\",\"shell.execute_reply.started\":\"2022-12-02T12:32:52.069728Z\",\"shell.execute_reply\":\"2022-12-02T12:32:52.083612Z\"}}\n",
        "import pandas as pd\n",
        "df = pd.DataFrame({'Name': {0: '김딴짓', 1: '박분기', 2: '이퇴근'},\n",
        "                   '수학': {0: 90, 1: 93, 2: 85},\n",
        "                   '영어': {0: 92, 1: 84, 2: 86},\n",
        "                   '국어': {0: 91, 1: 94, 2: 83},})\n",
        "df1 = pd.melt(df, id_vars=['Name'])\n",
        "print(df,df1)"
      ]
    }
  ]
}