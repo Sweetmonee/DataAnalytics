{
  "nbformat": 4,
  "nbformat_minor": 0,
  "metadata": {
    "colab": {
      "provenance": [],
      "authorship_tag": "ABX9TyPX4iEua1tGYrBe4GlIrwms",
      "include_colab_link": true
    },
    "kernelspec": {
      "name": "python3",
      "display_name": "Python 3"
    },
    "language_info": {
      "name": "python"
    }
  },
  "cells": [
    {
      "cell_type": "markdown",
      "metadata": {
        "id": "view-in-github",
        "colab_type": "text"
      },
      "source": [
        "<a href=\"https://colab.research.google.com/github/Sweetmonee/DataAnalytics/blob/main/one_way_anova_%ED%8F%89%EA%B7%A0%EB%B6%84%EC%84%9D.ipynb\" target=\"_parent\"><img src=\"https://colab.research.google.com/assets/colab-badge.svg\" alt=\"Open In Colab\"/></a>"
      ]
    },
    {
      "cell_type": "markdown",
      "source": [
        "## 세 가지 다른 교육 방법(A, B, C)을 사용하여 수험생들의 시험 성적을 개선시키는 효과를 평가하고자 한다. 30명의 학생들을 무작위로 세 그룹으로 배정하여 교육을 실시하였고, 시험을 보고 성적을 측정하였습니다. 다음은 각 그룹의 학생들의 성적 데이터입니다.\n",
        "\n",
        "- 귀무가설(H0): 세 그룹(A, B, C) 간의 평균 성적 차이가 없다.\n",
        "- 대립가설(H1 또는 Ha): 세 그룹(A, B, C) 간의 평균 성적 차이가 있다.\n",
        "\n",
        "### 일원배치법을 수행하여 그룹 간의 평균 성적 차이가 있는지 검정하세요\n",
        "1. f값 (소수 둘째자리)\n",
        "2. p값 (소수 여섯째자리)\n",
        "3. 검정결과 출력"
      ],
      "metadata": {
        "id": "_us-zORXC9Lp"
      }
    },
    {
      "cell_type": "code",
      "execution_count": null,
      "metadata": {
        "id": "YJzAVwh6tVzG"
      },
      "outputs": [],
      "source": [
        "# 각 그룹의 데이터\n",
        "groupA = [85, 92, 78, 88, 83, 90, 76, 84, 92, 87]\n",
        "groupB = [79, 69, 84, 78, 79, 83, 79, 81, 86, 88]\n",
        "groupC = [75, 68, 74, 65, 77, 72, 70, 73, 78, 75]\n",
        "\n",
        "# 원웨이 아노바\n",
        "from scipy.stats import stats\n",
        "\n",
        "f_value, p_value = stats.f_oneway(groupA,groupB,groupC)\n",
        "\n",
        "print(f_value,p_value)\n",
        "#결과해석: 귀무가설 채택. 세 집단의 평균은 같다고 볼 수 있다.\n",
        "\n",
        "\n",
        "\n",
        "\n"
      ]
    }
  ]
}