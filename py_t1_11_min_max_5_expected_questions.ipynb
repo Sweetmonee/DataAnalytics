{
  "metadata": {
    "kernelspec": {
      "language": "python",
      "display_name": "Python 3",
      "name": "python3"
    },
    "language_info": {
      "name": "python",
      "version": "3.7.10",
      "mimetype": "text/x-python",
      "codemirror_mode": {
        "name": "ipython",
        "version": 3
      },
      "pygments_lexer": "ipython3",
      "nbconvert_exporter": "python",
      "file_extension": ".py"
    },
    "colab": {
      "provenance": [],
      "include_colab_link": true
    }
  },
  "nbformat_minor": 0,
  "nbformat": 4,
  "cells": [
    {
      "cell_type": "markdown",
      "metadata": {
        "id": "view-in-github",
        "colab_type": "text"
      },
      "source": [
        "<a href=\"https://colab.research.google.com/github/Sweetmonee/DataAnalytics/blob/main/py_t1_11_min_max_5_expected_questions.ipynb\" target=\"_parent\"><img src=\"https://colab.research.google.com/assets/colab-badge.svg\" alt=\"Open In Colab\"/></a>"
      ]
    },
    {
      "cell_type": "code",
      "source": [
        "# min-max스케일링 기준 상하위 5% 구하기\n",
        "# 주어진 데이터에서 'f5'컬럼을 min-max 스케일 변환한 후, 상위 5%와 하위 5% 값의 합을 구하시오\n",
        "\n",
        "# - 데이터셋 : basic1.csv\n",
        "# - 오른쪽 상단 copy&edit 클릭 -> 예상문제 풀이 시작\n",
        "# - File -> Editor Type -> Script\n",
        "\n",
        "import pandas as pd\n",
        "import numpy as np\n",
        "\n",
        "df = pd.read_csv('/kaggle/input/bigdatacertificationkr/basic1.csv')\n",
        "print(df)\n",
        "df1 = df.copy()\n",
        "from sklearn.preprocessing import MinMaxScaler\n",
        "mms = MinMaxScaler()\n",
        "\n",
        "df1['f5'] = mms.fit_transform(df1[['f5']])\n",
        "top5 = df1['f5'].quantile(0.95)\n",
        "bottom5 = df1['f5'].quantile(0.05)\n",
        "print(top5,bottom5)\n",
        "answer = top5 + bottom5\n",
        "print(answer)\n",
        "\n"
      ],
      "metadata": {
        "execution": {
          "iopub.status.busy": "2023-06-19T23:39:13.174393Z",
          "iopub.execute_input": "2023-06-19T23:39:13.174743Z",
          "iopub.status.idle": "2023-06-19T23:39:13.207340Z",
          "shell.execute_reply.started": "2023-06-19T23:39:13.174704Z",
          "shell.execute_reply": "2023-06-19T23:39:13.205749Z"
        },
        "trusted": true,
        "id": "I8KFzOhpB-16",
        "outputId": "ae8878f6-c998-44fb-e33c-db018e5e5ef8"
      },
      "execution_count": null,
      "outputs": [
        {
          "name": "stdout",
          "text": "       id    age city    f1  f2   f3    f4         f5\n0    id01    2.0   서울   NaN   0  NaN  ENFJ  91.297791\n1    id02    9.0   서울  70.0   1  NaN  ENFJ  60.339826\n2    id03   27.0   서울  61.0   1  NaN  ISTJ  17.252986\n3    id04   75.0   서울   NaN   2  NaN  INFP  52.667078\n4    id05   24.0   서울  85.0   2  NaN  ISFJ  29.269869\n..    ...    ...  ...   ...  ..  ...   ...        ...\n95   id96   92.0   경기  53.0   1  NaN  ENTJ  52.667078\n96   id97  100.0   경기   NaN   0  NaN  INFP  67.886373\n97   id98   39.0   경기  58.0   2  NaN  INFP  98.429899\n98   id99    1.0   경기  47.0   0  NaN  ESFJ  97.381034\n99  id100   47.0   경기  53.0   0  vip  ESFP  33.308999\n\n[100 rows x 8 columns]\n0.9881662742993513 0.03670782406038746\n1.0248740983597389\n",
          "output_type": "stream"
        }
      ]
    },
    {
      "cell_type": "code",
      "source": [
        "# min-max스케일링 기준 상하위 5% 구하기\n",
        "# 주어진 데이터에서 'f5'컬럼을 min-max 스케일 변환한 후, 상위 5%와 하위 5% 값의 합을 구하시오\n",
        "\n",
        "# - 데이터셋 : basic1.csv\n",
        "# - 오른쪽 상단 copy&edit 클릭 -> 예상문제 풀이 시작\n",
        "# - File -> Editor Type -> Script\n",
        "\n",
        "\n",
        "# 라이브러리 및 데이터 불러오기\n",
        "import pandas as pd\n",
        "import numpy as np\n",
        "\n",
        "df = pd.read_csv('../input/bigdatacertificationkr/basic1.csv')\n",
        "\n",
        "\n",
        "# EDA\n",
        "print(df.head(5))\n",
        "print(df.isnull().sum())    #결측치 확인\n",
        "\n",
        "\n",
        "# min-max scale 방법1\n",
        "from sklearn.preprocessing import MinMaxScaler\n",
        "scaler = MinMaxScaler()\n",
        "df['f5_1'] = scaler.fit_transform(df[['f5']])\n",
        "\n",
        "# min-max scale 방법2\n",
        "df['f5_2'] = df['f5'].transform(lambda x: ((x - x.min()) / (x.max() - x.min())))\n",
        "\n",
        "\n",
        "# 방법1과 2 비교\n",
        "print(df.head())\n",
        "\n",
        "\n",
        "# 하위 5%, 상위 5% 값 구하기\n",
        "lower = df['f5_1'].quantile(0.05)\n",
        "print(lower)\n",
        "\n",
        "upper = df['f5_1'].quantile(0.95)\n",
        "print(upper)\n",
        "\n",
        "print(lower + upper)"
      ],
      "metadata": {
        "_uuid": "d3f1220c-2c94-4645-bc87-9a9a133c4237",
        "_cell_guid": "d9258aa6-e5dc-4949-ac90-21c07b67c2ea",
        "jupyter": {
          "outputs_hidden": false
        },
        "execution": {
          "iopub.status.busy": "2023-06-04T07:56:58.262306Z",
          "iopub.execute_input": "2023-06-04T07:56:58.262763Z",
          "iopub.status.idle": "2023-06-04T07:56:58.292994Z",
          "shell.execute_reply.started": "2023-06-04T07:56:58.262723Z",
          "shell.execute_reply": "2023-06-04T07:56:58.292056Z"
        },
        "trusted": true,
        "id": "XMWlHxo_B-19",
        "outputId": "eb36b30f-3148-4a45-8611-3e0082b0b7d3"
      },
      "execution_count": null,
      "outputs": [
        {
          "name": "stdout",
          "text": "     id   age city    f1  f2   f3    f4         f5\n0  id01   2.0   서울   NaN   0  NaN  ENFJ  91.297791\n1  id02   9.0   서울  70.0   1  NaN  ENFJ  60.339826\n2  id03  27.0   서울  61.0   1  NaN  ISTJ  17.252986\n3  id04  75.0   서울   NaN   2  NaN  INFP  52.667078\n4  id05  24.0   서울  85.0   2  NaN  ISFJ  29.269869\nid       0\nage      0\ncity     0\nf1      31\nf2       0\nf3      95\nf4       0\nf5       0\ndtype: int64\n     id   age city    f1  f2   f3    f4         f5      f5_1      f5_2\n0  id01   2.0   서울   NaN   0  NaN  ENFJ  91.297791  0.919533  0.919533\n1  id02   9.0   서울  70.0   1  NaN  ENFJ  60.339826  0.570252  0.570252\n2  id03  27.0   서울  61.0   1  NaN  ISTJ  17.252986  0.084129  0.084129\n3  id04  75.0   서울   NaN   2  NaN  INFP  52.667078  0.483685  0.483685\n4  id05  24.0   서울  85.0   2  NaN  ISFJ  29.269869  0.219708  0.219708\n0.03670782406038746\n0.9881662742993513\n1.0248740983597389\n",
          "output_type": "stream"
        }
      ]
    },
    {
      "cell_type": "code",
      "source": [
        "# min-max스케일링 기준 상하위 5% 구하기\n",
        "# 주어진 데이터에서 'f5'컬럼을 min-max 스케일 변환한 후, 상위 5%와 하위 5% 값의 합을 구하시오\n",
        "\n",
        "# - 데이터셋 : basic1.csv\n",
        "# - 오른쪽 상단 copy&edit 클릭 -> 예상문제 풀이 시작\n",
        "# - File -> Editor Type -> Script\n",
        "import pandas as pd\n",
        "import numpy as np\n",
        "from sklearn.preprocessing import MinMaxScaler\n",
        "mmscaler = MinMaxScaler()\n",
        "\n",
        "df = pd.read_csv('/kaggle/input/bigdatacertificationkr/basic1.csv')\n",
        "print(df, df.info())\n",
        "df1 = df.copy()\n",
        "df1['f5'] = mmscaler.fit_transform(df1[['f5']])\n",
        "print(df1, df1.info())\n",
        "a5 = df1['f5'].quantile(0.95)\n",
        "b5 = df1['f5'].quantile(0.05)\n",
        "print(a5,b5)"
      ],
      "metadata": {
        "execution": {
          "iopub.status.busy": "2023-06-11T03:22:50.924014Z",
          "iopub.execute_input": "2023-06-11T03:22:50.924402Z",
          "iopub.status.idle": "2023-06-11T03:22:50.981649Z",
          "shell.execute_reply.started": "2023-06-11T03:22:50.924361Z",
          "shell.execute_reply": "2023-06-11T03:22:50.980687Z"
        },
        "trusted": true,
        "id": "mUIBxT5yB-1-",
        "outputId": "a545423e-8b51-48bd-a2c5-b81abe19ffab"
      },
      "execution_count": null,
      "outputs": [
        {
          "name": "stdout",
          "text": "<class 'pandas.core.frame.DataFrame'>\nRangeIndex: 100 entries, 0 to 99\nData columns (total 8 columns):\n #   Column  Non-Null Count  Dtype  \n---  ------  --------------  -----  \n 0   id      100 non-null    object \n 1   age     100 non-null    float64\n 2   city    100 non-null    object \n 3   f1      69 non-null     float64\n 4   f2      100 non-null    int64  \n 5   f3      5 non-null      object \n 6   f4      100 non-null    object \n 7   f5      100 non-null    float64\ndtypes: float64(3), int64(1), object(4)\nmemory usage: 6.4+ KB\n       id    age city    f1  f2   f3    f4         f5\n0    id01    2.0   서울   NaN   0  NaN  ENFJ  91.297791\n1    id02    9.0   서울  70.0   1  NaN  ENFJ  60.339826\n2    id03   27.0   서울  61.0   1  NaN  ISTJ  17.252986\n3    id04   75.0   서울   NaN   2  NaN  INFP  52.667078\n4    id05   24.0   서울  85.0   2  NaN  ISFJ  29.269869\n..    ...    ...  ...   ...  ..  ...   ...        ...\n95   id96   92.0   경기  53.0   1  NaN  ENTJ  52.667078\n96   id97  100.0   경기   NaN   0  NaN  INFP  67.886373\n97   id98   39.0   경기  58.0   2  NaN  INFP  98.429899\n98   id99    1.0   경기  47.0   0  NaN  ESFJ  97.381034\n99  id100   47.0   경기  53.0   0  vip  ESFP  33.308999\n\n[100 rows x 8 columns] None\n<class 'pandas.core.frame.DataFrame'>\nRangeIndex: 100 entries, 0 to 99\nData columns (total 8 columns):\n #   Column  Non-Null Count  Dtype  \n---  ------  --------------  -----  \n 0   id      100 non-null    object \n 1   age     100 non-null    float64\n 2   city    100 non-null    object \n 3   f1      69 non-null     float64\n 4   f2      100 non-null    int64  \n 5   f3      5 non-null      object \n 6   f4      100 non-null    object \n 7   f5      100 non-null    float64\ndtypes: float64(3), int64(1), object(4)\nmemory usage: 6.4+ KB\n       id    age city    f1  f2   f3    f4        f5\n0    id01    2.0   서울   NaN   0  NaN  ENFJ  0.919533\n1    id02    9.0   서울  70.0   1  NaN  ENFJ  0.570252\n2    id03   27.0   서울  61.0   1  NaN  ISTJ  0.084129\n3    id04   75.0   서울   NaN   2  NaN  INFP  0.483685\n4    id05   24.0   서울  85.0   2  NaN  ISFJ  0.219708\n..    ...    ...  ...   ...  ..  ...   ...       ...\n95   id96   92.0   경기  53.0   1  NaN  ENTJ  0.483685\n96   id97  100.0   경기   NaN   0  NaN  INFP  0.655395\n97   id98   39.0   경기  58.0   2  NaN  INFP  1.000000\n98   id99    1.0   경기  47.0   0  NaN  ESFJ  0.988166\n99  id100   47.0   경기  53.0   0  vip  ESFP  0.265279\n\n[100 rows x 8 columns] None\n0.9881662742993513 0.03670782406038746\n",
          "output_type": "stream"
        }
      ]
    },
    {
      "cell_type": "code",
      "source": [
        "import pandas as pd\n",
        "import numpy as np\n",
        "df = pd.read_csv('/kaggle/input/bigdatacertificationkr/basic1.csv')\n",
        "df"
      ],
      "metadata": {
        "execution": {
          "iopub.status.busy": "2023-06-04T07:51:44.790038Z",
          "iopub.execute_input": "2023-06-04T07:51:44.790614Z",
          "iopub.status.idle": "2023-06-04T07:51:44.846829Z",
          "shell.execute_reply.started": "2023-06-04T07:51:44.790530Z",
          "shell.execute_reply": "2023-06-04T07:51:44.846049Z"
        },
        "trusted": true,
        "id": "w6ZMytj7B-1-",
        "outputId": "d642b8e0-7072-4878-b40f-aee50972efce"
      },
      "execution_count": null,
      "outputs": [
        {
          "execution_count": 1,
          "output_type": "execute_result",
          "data": {
            "text/plain": "       id    age city    f1  f2   f3    f4         f5\n0    id01    2.0   서울   NaN   0  NaN  ENFJ  91.297791\n1    id02    9.0   서울  70.0   1  NaN  ENFJ  60.339826\n2    id03   27.0   서울  61.0   1  NaN  ISTJ  17.252986\n3    id04   75.0   서울   NaN   2  NaN  INFP  52.667078\n4    id05   24.0   서울  85.0   2  NaN  ISFJ  29.269869\n..    ...    ...  ...   ...  ..  ...   ...        ...\n95   id96   92.0   경기  53.0   1  NaN  ENTJ  52.667078\n96   id97  100.0   경기   NaN   0  NaN  INFP  67.886373\n97   id98   39.0   경기  58.0   2  NaN  INFP  98.429899\n98   id99    1.0   경기  47.0   0  NaN  ESFJ  97.381034\n99  id100   47.0   경기  53.0   0  vip  ESFP  33.308999\n\n[100 rows x 8 columns]",
            "text/html": "<div>\n<style scoped>\n    .dataframe tbody tr th:only-of-type {\n        vertical-align: middle;\n    }\n\n    .dataframe tbody tr th {\n        vertical-align: top;\n    }\n\n    .dataframe thead th {\n        text-align: right;\n    }\n</style>\n<table border=\"1\" class=\"dataframe\">\n  <thead>\n    <tr style=\"text-align: right;\">\n      <th></th>\n      <th>id</th>\n      <th>age</th>\n      <th>city</th>\n      <th>f1</th>\n      <th>f2</th>\n      <th>f3</th>\n      <th>f4</th>\n      <th>f5</th>\n    </tr>\n  </thead>\n  <tbody>\n    <tr>\n      <th>0</th>\n      <td>id01</td>\n      <td>2.0</td>\n      <td>서울</td>\n      <td>NaN</td>\n      <td>0</td>\n      <td>NaN</td>\n      <td>ENFJ</td>\n      <td>91.297791</td>\n    </tr>\n    <tr>\n      <th>1</th>\n      <td>id02</td>\n      <td>9.0</td>\n      <td>서울</td>\n      <td>70.0</td>\n      <td>1</td>\n      <td>NaN</td>\n      <td>ENFJ</td>\n      <td>60.339826</td>\n    </tr>\n    <tr>\n      <th>2</th>\n      <td>id03</td>\n      <td>27.0</td>\n      <td>서울</td>\n      <td>61.0</td>\n      <td>1</td>\n      <td>NaN</td>\n      <td>ISTJ</td>\n      <td>17.252986</td>\n    </tr>\n    <tr>\n      <th>3</th>\n      <td>id04</td>\n      <td>75.0</td>\n      <td>서울</td>\n      <td>NaN</td>\n      <td>2</td>\n      <td>NaN</td>\n      <td>INFP</td>\n      <td>52.667078</td>\n    </tr>\n    <tr>\n      <th>4</th>\n      <td>id05</td>\n      <td>24.0</td>\n      <td>서울</td>\n      <td>85.0</td>\n      <td>2</td>\n      <td>NaN</td>\n      <td>ISFJ</td>\n      <td>29.269869</td>\n    </tr>\n    <tr>\n      <th>...</th>\n      <td>...</td>\n      <td>...</td>\n      <td>...</td>\n      <td>...</td>\n      <td>...</td>\n      <td>...</td>\n      <td>...</td>\n      <td>...</td>\n    </tr>\n    <tr>\n      <th>95</th>\n      <td>id96</td>\n      <td>92.0</td>\n      <td>경기</td>\n      <td>53.0</td>\n      <td>1</td>\n      <td>NaN</td>\n      <td>ENTJ</td>\n      <td>52.667078</td>\n    </tr>\n    <tr>\n      <th>96</th>\n      <td>id97</td>\n      <td>100.0</td>\n      <td>경기</td>\n      <td>NaN</td>\n      <td>0</td>\n      <td>NaN</td>\n      <td>INFP</td>\n      <td>67.886373</td>\n    </tr>\n    <tr>\n      <th>97</th>\n      <td>id98</td>\n      <td>39.0</td>\n      <td>경기</td>\n      <td>58.0</td>\n      <td>2</td>\n      <td>NaN</td>\n      <td>INFP</td>\n      <td>98.429899</td>\n    </tr>\n    <tr>\n      <th>98</th>\n      <td>id99</td>\n      <td>1.0</td>\n      <td>경기</td>\n      <td>47.0</td>\n      <td>0</td>\n      <td>NaN</td>\n      <td>ESFJ</td>\n      <td>97.381034</td>\n    </tr>\n    <tr>\n      <th>99</th>\n      <td>id100</td>\n      <td>47.0</td>\n      <td>경기</td>\n      <td>53.0</td>\n      <td>0</td>\n      <td>vip</td>\n      <td>ESFP</td>\n      <td>33.308999</td>\n    </tr>\n  </tbody>\n</table>\n<p>100 rows × 8 columns</p>\n</div>"
          },
          "metadata": {}
        }
      ]
    },
    {
      "cell_type": "code",
      "source": [
        "df.isnull().sum()\n",
        "df.info()"
      ],
      "metadata": {
        "execution": {
          "iopub.status.busy": "2023-06-04T07:52:12.591887Z",
          "iopub.execute_input": "2023-06-04T07:52:12.592137Z",
          "iopub.status.idle": "2023-06-04T07:52:12.617729Z",
          "shell.execute_reply.started": "2023-06-04T07:52:12.592109Z",
          "shell.execute_reply": "2023-06-04T07:52:12.616715Z"
        },
        "trusted": true,
        "id": "Bwq5e7Q_B-1-",
        "outputId": "99cd2a33-d98d-44b4-c41f-fdfab20fb10d"
      },
      "execution_count": null,
      "outputs": [
        {
          "name": "stdout",
          "text": "<class 'pandas.core.frame.DataFrame'>\nRangeIndex: 100 entries, 0 to 99\nData columns (total 8 columns):\n #   Column  Non-Null Count  Dtype  \n---  ------  --------------  -----  \n 0   id      100 non-null    object \n 1   age     100 non-null    float64\n 2   city    100 non-null    object \n 3   f1      69 non-null     float64\n 4   f2      100 non-null    int64  \n 5   f3      5 non-null      object \n 6   f4      100 non-null    object \n 7   f5      100 non-null    float64\ndtypes: float64(3), int64(1), object(4)\nmemory usage: 6.4+ KB\n",
          "output_type": "stream"
        }
      ]
    },
    {
      "cell_type": "code",
      "source": [
        "from sklearn.preprocessing import MinMaxScaler\n",
        "mms = MinMaxScaler()\n",
        "df1 = df\n",
        "df1['f5'] = mms.fit_transform(df1[['f5']])\n",
        "df1['f5']"
      ],
      "metadata": {
        "execution": {
          "iopub.status.busy": "2023-06-04T07:55:00.578515Z",
          "iopub.execute_input": "2023-06-04T07:55:00.578781Z",
          "iopub.status.idle": "2023-06-04T07:55:01.354198Z",
          "shell.execute_reply.started": "2023-06-04T07:55:00.578753Z",
          "shell.execute_reply": "2023-06-04T07:55:01.353410Z"
        },
        "trusted": true,
        "id": "-KmG2MoEB-1_",
        "outputId": "527e8a7e-4592-450b-9f38-9bd988e84391"
      },
      "execution_count": null,
      "outputs": [
        {
          "execution_count": 4,
          "output_type": "execute_result",
          "data": {
            "text/plain": "0     0.919533\n1     0.570252\n2     0.084129\n3     0.483685\n4     0.219708\n        ...   \n95    0.483685\n96    0.655395\n97    1.000000\n98    0.988166\n99    0.265279\nName: f5, Length: 100, dtype: float64"
          },
          "metadata": {}
        }
      ]
    },
    {
      "cell_type": "code",
      "source": [
        "b = df1['f5'].quantile(0.05)\n",
        "t = df1['f5'].quantile(0.95)\n",
        "print(b,t)\n",
        "print(b+t)"
      ],
      "metadata": {
        "execution": {
          "iopub.status.busy": "2023-06-04T07:56:51.360212Z",
          "iopub.execute_input": "2023-06-04T07:56:51.360486Z",
          "iopub.status.idle": "2023-06-04T07:56:51.368656Z",
          "shell.execute_reply.started": "2023-06-04T07:56:51.360460Z",
          "shell.execute_reply": "2023-06-04T07:56:51.367674Z"
        },
        "trusted": true,
        "id": "iQNahd5JB-1_",
        "outputId": "32938b14-0db4-4e8e-b3b6-28ede35c7bad"
      },
      "execution_count": null,
      "outputs": [
        {
          "name": "stdout",
          "text": "0.03670782406038746 0.9881662742993513\n1.0248740983597389\n",
          "output_type": "stream"
        }
      ]
    },
    {
      "cell_type": "code",
      "source": [
        "from sklearn.preprocessing import MinMaxScaler\n",
        "mms = MinMaxScaler\n",
        "df['f5'] = mms.fit_transform(df[['f5']])"
      ],
      "metadata": {
        "id": "LjL2rqb4B-1_"
      },
      "execution_count": null,
      "outputs": []
    }
  ]
}