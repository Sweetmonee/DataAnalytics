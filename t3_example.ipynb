{
  "metadata": {
    "kernelspec": {
      "language": "python",
      "display_name": "Python 3",
      "name": "python3"
    },
    "language_info": {
      "name": "python",
      "version": "3.10.10",
      "mimetype": "text/x-python",
      "codemirror_mode": {
        "name": "ipython",
        "version": 3
      },
      "pygments_lexer": "ipython3",
      "nbconvert_exporter": "python",
      "file_extension": ".py"
    },
    "colab": {
      "provenance": [],
      "include_colab_link": true
    }
  },
  "nbformat_minor": 0,
  "nbformat": 4,
  "cells": [
    {
      "cell_type": "markdown",
      "metadata": {
        "id": "view-in-github",
        "colab_type": "text"
      },
      "source": [
        "<a href=\"https://colab.research.google.com/github/Sweetmonee/DataAnalytics/blob/main/t3_example.ipynb\" target=\"_parent\"><img src=\"https://colab.research.google.com/assets/colab-badge.svg\" alt=\"Open In Colab\"/></a>"
      ]
    },
    {
      "cell_type": "code",
      "source": [
        "# import pandas as pd\n",
        "# pd = pd.read_csv(\"/kaggle/input/bigdatacertificationkr/high_blood_pressure.csv\")\n",
        "\n",
        "# your code\n",
        "import pandas as pd\n",
        "hbp_df = pd.read_csv('/kaggle/input/bigdatacertificationkr/high_blood_pressure.csv')\n"
      ],
      "metadata": {
        "_uuid": "8f2839f25d086af736a60e9eeb907d3b93b6e0e5",
        "_cell_guid": "b1076dfc-b9ad-4769-8c92-a6c4dae69d19",
        "execution": {
          "iopub.status.busy": "2023-06-01T12:32:09.609519Z",
          "iopub.status.idle": "2023-06-01T12:32:09.609851Z",
          "shell.execute_reply.started": "2023-06-01T12:32:09.609690Z",
          "shell.execute_reply": "2023-06-01T12:32:09.609707Z"
        },
        "trusted": true,
        "id": "XmqfQXh1irQj"
      },
      "execution_count": null,
      "outputs": []
    },
    {
      "cell_type": "markdown",
      "source": [
        "## 풀이"
      ],
      "metadata": {
        "id": "p7s2RtenirQm"
      }
    },
    {
      "cell_type": "code",
      "source": [
        "import pandas as pd\n",
        "from scipy import stats\n",
        "df = pd.read_csv(\"/kaggle/input/bigdatacertificationkr/high_blood_pressure.csv\")\n",
        "\n",
        "df['diff'] = df['bp_post'] - df['bp_pre']\n",
        "\n",
        "#1\n",
        "print(round(df['diff'].mean(),2))\n",
        "\n",
        "#2\n",
        "st, pv = stats.ttest_rel(df['bp_post'], df['bp_pre'], alternative=\"less\")\n",
        "print(round(st,4))\n",
        "\n",
        "#3\n",
        "print(round(pv,4))\n",
        "\n",
        "#4 귀무가설 기각, 대립가설 채택"
      ],
      "metadata": {
        "execution": {
          "iopub.status.busy": "2023-05-31T12:51:51.555480Z",
          "iopub.execute_input": "2023-05-31T12:51:51.555896Z",
          "iopub.status.idle": "2023-05-31T12:51:51.942742Z",
          "shell.execute_reply.started": "2023-05-31T12:51:51.555864Z",
          "shell.execute_reply": "2023-05-31T12:51:51.941484Z"
        },
        "trusted": true,
        "id": "44NkmqNYirQo",
        "outputId": "b5bbdaa3-3de2-4e4d-fd7f-107588276adc"
      },
      "execution_count": null,
      "outputs": [
        {
          "name": "stderr",
          "text": "/opt/conda/lib/python3.10/site-packages/scipy/__init__.py:146: UserWarning: A NumPy version >=1.16.5 and <1.23.0 is required for this version of SciPy (detected version 1.23.5\n  warnings.warn(f\"A NumPy version >={np_minversion} and <{np_maxversion}\"\n",
          "output_type": "stream"
        },
        {
          "name": "stdout",
          "text": "-6.12\n-3.0002\n0.0016\n",
          "output_type": "stream"
        }
      ]
    },
    {
      "cell_type": "code",
      "source": [
        "df"
      ],
      "metadata": {
        "execution": {
          "iopub.status.busy": "2023-05-31T12:54:10.651737Z",
          "iopub.execute_input": "2023-05-31T12:54:10.654437Z",
          "iopub.status.idle": "2023-05-31T12:54:10.721047Z",
          "shell.execute_reply.started": "2023-05-31T12:54:10.654295Z",
          "shell.execute_reply": "2023-05-31T12:54:10.719585Z"
        },
        "trusted": true,
        "id": "5Oc0aBweirQp",
        "outputId": "f4a5f77c-3dda-477a-e56b-e28bdcd55537"
      },
      "execution_count": null,
      "outputs": [
        {
          "execution_count": 6,
          "output_type": "execute_result",
          "data": {
            "text/plain": "       Id     sex  age  bp_pre  bp_post  diff\n0    p001    Male   33     149      129   -20\n1    p002    Male   39     168      168     0\n2    p003    Male   70     176      155   -21\n3    p004  Female   41     169      178     9\n4    p005    Male   48     160      126   -34\n..    ...     ...  ...     ...      ...   ...\n115  p116    Male   70     173      129   -44\n116  p117    Male   75     153      157     4\n117  p118  Female   79     156      143   -13\n118  p119  Female   40     182      172   -10\n119  p120  Female   41     142      168    26\n\n[120 rows x 6 columns]",
            "text/html": "<div>\n<style scoped>\n    .dataframe tbody tr th:only-of-type {\n        vertical-align: middle;\n    }\n\n    .dataframe tbody tr th {\n        vertical-align: top;\n    }\n\n    .dataframe thead th {\n        text-align: right;\n    }\n</style>\n<table border=\"1\" class=\"dataframe\">\n  <thead>\n    <tr style=\"text-align: right;\">\n      <th></th>\n      <th>Id</th>\n      <th>sex</th>\n      <th>age</th>\n      <th>bp_pre</th>\n      <th>bp_post</th>\n      <th>diff</th>\n    </tr>\n  </thead>\n  <tbody>\n    <tr>\n      <th>0</th>\n      <td>p001</td>\n      <td>Male</td>\n      <td>33</td>\n      <td>149</td>\n      <td>129</td>\n      <td>-20</td>\n    </tr>\n    <tr>\n      <th>1</th>\n      <td>p002</td>\n      <td>Male</td>\n      <td>39</td>\n      <td>168</td>\n      <td>168</td>\n      <td>0</td>\n    </tr>\n    <tr>\n      <th>2</th>\n      <td>p003</td>\n      <td>Male</td>\n      <td>70</td>\n      <td>176</td>\n      <td>155</td>\n      <td>-21</td>\n    </tr>\n    <tr>\n      <th>3</th>\n      <td>p004</td>\n      <td>Female</td>\n      <td>41</td>\n      <td>169</td>\n      <td>178</td>\n      <td>9</td>\n    </tr>\n    <tr>\n      <th>4</th>\n      <td>p005</td>\n      <td>Male</td>\n      <td>48</td>\n      <td>160</td>\n      <td>126</td>\n      <td>-34</td>\n    </tr>\n    <tr>\n      <th>...</th>\n      <td>...</td>\n      <td>...</td>\n      <td>...</td>\n      <td>...</td>\n      <td>...</td>\n      <td>...</td>\n    </tr>\n    <tr>\n      <th>115</th>\n      <td>p116</td>\n      <td>Male</td>\n      <td>70</td>\n      <td>173</td>\n      <td>129</td>\n      <td>-44</td>\n    </tr>\n    <tr>\n      <th>116</th>\n      <td>p117</td>\n      <td>Male</td>\n      <td>75</td>\n      <td>153</td>\n      <td>157</td>\n      <td>4</td>\n    </tr>\n    <tr>\n      <th>117</th>\n      <td>p118</td>\n      <td>Female</td>\n      <td>79</td>\n      <td>156</td>\n      <td>143</td>\n      <td>-13</td>\n    </tr>\n    <tr>\n      <th>118</th>\n      <td>p119</td>\n      <td>Female</td>\n      <td>40</td>\n      <td>182</td>\n      <td>172</td>\n      <td>-10</td>\n    </tr>\n    <tr>\n      <th>119</th>\n      <td>p120</td>\n      <td>Female</td>\n      <td>41</td>\n      <td>142</td>\n      <td>168</td>\n      <td>26</td>\n    </tr>\n  </tbody>\n</table>\n<p>120 rows × 6 columns</p>\n</div>"
          },
          "metadata": {}
        }
      ]
    },
    {
      "cell_type": "markdown",
      "source": [
        "## 주어진 데이터는 고혈압 환자 치료 전후의 혈압이다. 해당 치료가 효과가 있는지 대응(쌍체)표본 t-검정을 진행하시오\n",
        "- 귀무가설(H0): $\\mu$ >= 0\n",
        "- 대립가설(H1): $\\mu$ < 0\n",
        "- $\\mu$ = (치료 후 혈압 - 치료 전 혈압)의 평균\n",
        "- 유의수준: 0.05\n",
        "\n",
        "1. $\\mu$의 표본평균은?(소수 둘째자리까지 반올림)\n",
        "2. 검정통계량 값은?(소수 넷째자리까지 반올림)\n",
        "3. p-값은?(소수 넷째자리까지 반올림)\n",
        "4. 가설검정의 결과는? (유의수준 5%)"
      ],
      "metadata": {
        "id": "_dt3UpakirQq"
      }
    },
    {
      "cell_type": "code",
      "source": [
        "import pandas as pd\n",
        "import numpy as np\n",
        "from scipy import stats\n",
        "\n",
        "df = pd.read_csv('/kaggle/input/bigdatacertificationkr/high_blood_pressure.csv')\n",
        "print(df)\n",
        "df['diff'] = df['bp_post'] - df['bp_pre']\n",
        "print(df)\n",
        "answer1 = df['diff'].mean()#- 이므로 post가 더 작음\n",
        "t_stats, p_value = stats.ttest_rel(df['bp_post'],df['bp_pre'], alternative = 'less')\n",
        "answer2 = t_stats\n",
        "answer3 = p_value\n",
        "answer4 = '귀무가설을 기각한다'\n",
        "print(round(answer1,2),round(answer2,4),round(answer3,4),answer4)"
      ],
      "metadata": {
        "execution": {
          "iopub.status.busy": "2023-06-22T23:45:43.661276Z",
          "iopub.execute_input": "2023-06-22T23:45:43.662350Z",
          "iopub.status.idle": "2023-06-22T23:45:43.691066Z",
          "shell.execute_reply.started": "2023-06-22T23:45:43.662283Z",
          "shell.execute_reply": "2023-06-22T23:45:43.689479Z"
        },
        "trusted": true,
        "id": "apGX3CWxirQq",
        "outputId": "a39d7332-855b-47f4-9d6b-1c92aa8338f0"
      },
      "execution_count": null,
      "outputs": [
        {
          "name": "stdout",
          "text": "       Id     sex  age  bp_pre  bp_post\n0    p001    Male   33     149      129\n1    p002    Male   39     168      168\n2    p003    Male   70     176      155\n3    p004  Female   41     169      178\n4    p005    Male   48     160      126\n..    ...     ...  ...     ...      ...\n115  p116    Male   70     173      129\n116  p117    Male   75     153      157\n117  p118  Female   79     156      143\n118  p119  Female   40     182      172\n119  p120  Female   41     142      168\n\n[120 rows x 5 columns]\n       Id     sex  age  bp_pre  bp_post  diff\n0    p001    Male   33     149      129   -20\n1    p002    Male   39     168      168     0\n2    p003    Male   70     176      155   -21\n3    p004  Female   41     169      178     9\n4    p005    Male   48     160      126   -34\n..    ...     ...  ...     ...      ...   ...\n115  p116    Male   70     173      129   -44\n116  p117    Male   75     153      157     4\n117  p118  Female   79     156      143   -13\n118  p119  Female   40     182      172   -10\n119  p120  Female   41     142      168    26\n\n[120 rows x 6 columns]\n-6.12 -3.0002 0.0016 귀무가설을 기각한다\n",
          "output_type": "stream"
        }
      ]
    },
    {
      "cell_type": "markdown",
      "source": [
        "[풀이영상](https://bit.ly/3HnIBN7)"
      ],
      "metadata": {
        "id": "R9QrBOBbirQr"
      }
    },
    {
      "cell_type": "code",
      "source": [
        "import pandas as pd\n",
        "import numpy as np\n",
        "from scipy import stats"
      ],
      "metadata": {
        "execution": {
          "iopub.status.busy": "2023-06-01T12:32:50.141075Z",
          "iopub.execute_input": "2023-06-01T12:32:50.141441Z",
          "iopub.status.idle": "2023-06-01T12:32:50.391920Z",
          "shell.execute_reply.started": "2023-06-01T12:32:50.141411Z",
          "shell.execute_reply": "2023-06-01T12:32:50.390530Z"
        },
        "trusted": true,
        "id": "npwj3ufmirQr",
        "outputId": "b8960937-5009-4252-8229-53294166ff31"
      },
      "execution_count": null,
      "outputs": [
        {
          "name": "stderr",
          "text": "/opt/conda/lib/python3.10/site-packages/scipy/__init__.py:146: UserWarning: A NumPy version >=1.16.5 and <1.23.0 is required for this version of SciPy (detected version 1.23.5\n  warnings.warn(f\"A NumPy version >={np_minversion} and <{np_maxversion}\"\n",
          "output_type": "stream"
        }
      ]
    },
    {
      "cell_type": "code",
      "source": [
        "df = pd.read_csv('/kaggle/input/bigdatacertificationkr/high_blood_pressure.csv')\n",
        "df"
      ],
      "metadata": {
        "execution": {
          "iopub.status.busy": "2023-06-01T12:33:37.807808Z",
          "iopub.execute_input": "2023-06-01T12:33:37.808144Z",
          "iopub.status.idle": "2023-06-01T12:33:37.845011Z",
          "shell.execute_reply.started": "2023-06-01T12:33:37.808117Z",
          "shell.execute_reply": "2023-06-01T12:33:37.843630Z"
        },
        "trusted": true,
        "id": "nzO5u5UhirQr",
        "outputId": "895e571a-66c5-4bf4-e973-b79a5e489ebc"
      },
      "execution_count": null,
      "outputs": [
        {
          "execution_count": 4,
          "output_type": "execute_result",
          "data": {
            "text/plain": "       Id     sex  age  bp_pre  bp_post\n0    p001    Male   33     149      129\n1    p002    Male   39     168      168\n2    p003    Male   70     176      155\n3    p004  Female   41     169      178\n4    p005    Male   48     160      126\n..    ...     ...  ...     ...      ...\n115  p116    Male   70     173      129\n116  p117    Male   75     153      157\n117  p118  Female   79     156      143\n118  p119  Female   40     182      172\n119  p120  Female   41     142      168\n\n[120 rows x 5 columns]",
            "text/html": "<div>\n<style scoped>\n    .dataframe tbody tr th:only-of-type {\n        vertical-align: middle;\n    }\n\n    .dataframe tbody tr th {\n        vertical-align: top;\n    }\n\n    .dataframe thead th {\n        text-align: right;\n    }\n</style>\n<table border=\"1\" class=\"dataframe\">\n  <thead>\n    <tr style=\"text-align: right;\">\n      <th></th>\n      <th>Id</th>\n      <th>sex</th>\n      <th>age</th>\n      <th>bp_pre</th>\n      <th>bp_post</th>\n    </tr>\n  </thead>\n  <tbody>\n    <tr>\n      <th>0</th>\n      <td>p001</td>\n      <td>Male</td>\n      <td>33</td>\n      <td>149</td>\n      <td>129</td>\n    </tr>\n    <tr>\n      <th>1</th>\n      <td>p002</td>\n      <td>Male</td>\n      <td>39</td>\n      <td>168</td>\n      <td>168</td>\n    </tr>\n    <tr>\n      <th>2</th>\n      <td>p003</td>\n      <td>Male</td>\n      <td>70</td>\n      <td>176</td>\n      <td>155</td>\n    </tr>\n    <tr>\n      <th>3</th>\n      <td>p004</td>\n      <td>Female</td>\n      <td>41</td>\n      <td>169</td>\n      <td>178</td>\n    </tr>\n    <tr>\n      <th>4</th>\n      <td>p005</td>\n      <td>Male</td>\n      <td>48</td>\n      <td>160</td>\n      <td>126</td>\n    </tr>\n    <tr>\n      <th>...</th>\n      <td>...</td>\n      <td>...</td>\n      <td>...</td>\n      <td>...</td>\n      <td>...</td>\n    </tr>\n    <tr>\n      <th>115</th>\n      <td>p116</td>\n      <td>Male</td>\n      <td>70</td>\n      <td>173</td>\n      <td>129</td>\n    </tr>\n    <tr>\n      <th>116</th>\n      <td>p117</td>\n      <td>Male</td>\n      <td>75</td>\n      <td>153</td>\n      <td>157</td>\n    </tr>\n    <tr>\n      <th>117</th>\n      <td>p118</td>\n      <td>Female</td>\n      <td>79</td>\n      <td>156</td>\n      <td>143</td>\n    </tr>\n    <tr>\n      <th>118</th>\n      <td>p119</td>\n      <td>Female</td>\n      <td>40</td>\n      <td>182</td>\n      <td>172</td>\n    </tr>\n    <tr>\n      <th>119</th>\n      <td>p120</td>\n      <td>Female</td>\n      <td>41</td>\n      <td>142</td>\n      <td>168</td>\n    </tr>\n  </tbody>\n</table>\n<p>120 rows × 5 columns</p>\n</div>"
          },
          "metadata": {}
        }
      ]
    },
    {
      "cell_type": "code",
      "source": [
        "df['difference'] = df['bp_post'] - df['bp_pre']\n",
        "df"
      ],
      "metadata": {
        "execution": {
          "iopub.status.busy": "2023-06-01T12:34:01.847252Z",
          "iopub.execute_input": "2023-06-01T12:34:01.847653Z",
          "iopub.status.idle": "2023-06-01T12:34:01.868789Z",
          "shell.execute_reply.started": "2023-06-01T12:34:01.847624Z",
          "shell.execute_reply": "2023-06-01T12:34:01.867354Z"
        },
        "trusted": true,
        "id": "qQ-hYoVFirQs",
        "outputId": "93cd01ab-cbf6-4850-9e85-74ccb85decac"
      },
      "execution_count": null,
      "outputs": [
        {
          "execution_count": 5,
          "output_type": "execute_result",
          "data": {
            "text/plain": "       Id     sex  age  bp_pre  bp_post  difference\n0    p001    Male   33     149      129         -20\n1    p002    Male   39     168      168           0\n2    p003    Male   70     176      155         -21\n3    p004  Female   41     169      178           9\n4    p005    Male   48     160      126         -34\n..    ...     ...  ...     ...      ...         ...\n115  p116    Male   70     173      129         -44\n116  p117    Male   75     153      157           4\n117  p118  Female   79     156      143         -13\n118  p119  Female   40     182      172         -10\n119  p120  Female   41     142      168          26\n\n[120 rows x 6 columns]",
            "text/html": "<div>\n<style scoped>\n    .dataframe tbody tr th:only-of-type {\n        vertical-align: middle;\n    }\n\n    .dataframe tbody tr th {\n        vertical-align: top;\n    }\n\n    .dataframe thead th {\n        text-align: right;\n    }\n</style>\n<table border=\"1\" class=\"dataframe\">\n  <thead>\n    <tr style=\"text-align: right;\">\n      <th></th>\n      <th>Id</th>\n      <th>sex</th>\n      <th>age</th>\n      <th>bp_pre</th>\n      <th>bp_post</th>\n      <th>difference</th>\n    </tr>\n  </thead>\n  <tbody>\n    <tr>\n      <th>0</th>\n      <td>p001</td>\n      <td>Male</td>\n      <td>33</td>\n      <td>149</td>\n      <td>129</td>\n      <td>-20</td>\n    </tr>\n    <tr>\n      <th>1</th>\n      <td>p002</td>\n      <td>Male</td>\n      <td>39</td>\n      <td>168</td>\n      <td>168</td>\n      <td>0</td>\n    </tr>\n    <tr>\n      <th>2</th>\n      <td>p003</td>\n      <td>Male</td>\n      <td>70</td>\n      <td>176</td>\n      <td>155</td>\n      <td>-21</td>\n    </tr>\n    <tr>\n      <th>3</th>\n      <td>p004</td>\n      <td>Female</td>\n      <td>41</td>\n      <td>169</td>\n      <td>178</td>\n      <td>9</td>\n    </tr>\n    <tr>\n      <th>4</th>\n      <td>p005</td>\n      <td>Male</td>\n      <td>48</td>\n      <td>160</td>\n      <td>126</td>\n      <td>-34</td>\n    </tr>\n    <tr>\n      <th>...</th>\n      <td>...</td>\n      <td>...</td>\n      <td>...</td>\n      <td>...</td>\n      <td>...</td>\n      <td>...</td>\n    </tr>\n    <tr>\n      <th>115</th>\n      <td>p116</td>\n      <td>Male</td>\n      <td>70</td>\n      <td>173</td>\n      <td>129</td>\n      <td>-44</td>\n    </tr>\n    <tr>\n      <th>116</th>\n      <td>p117</td>\n      <td>Male</td>\n      <td>75</td>\n      <td>153</td>\n      <td>157</td>\n      <td>4</td>\n    </tr>\n    <tr>\n      <th>117</th>\n      <td>p118</td>\n      <td>Female</td>\n      <td>79</td>\n      <td>156</td>\n      <td>143</td>\n      <td>-13</td>\n    </tr>\n    <tr>\n      <th>118</th>\n      <td>p119</td>\n      <td>Female</td>\n      <td>40</td>\n      <td>182</td>\n      <td>172</td>\n      <td>-10</td>\n    </tr>\n    <tr>\n      <th>119</th>\n      <td>p120</td>\n      <td>Female</td>\n      <td>41</td>\n      <td>142</td>\n      <td>168</td>\n      <td>26</td>\n    </tr>\n  </tbody>\n</table>\n<p>120 rows × 6 columns</p>\n</div>"
          },
          "metadata": {}
        }
      ]
    },
    {
      "cell_type": "code",
      "source": [
        "#뮤의 표본평균은? 소수점 둘째짜리 반올림\n",
        "print(round(df['difference'].mean(), 2))"
      ],
      "metadata": {
        "execution": {
          "iopub.status.busy": "2023-06-01T12:35:05.479235Z",
          "iopub.execute_input": "2023-06-01T12:35:05.479699Z",
          "iopub.status.idle": "2023-06-01T12:35:05.488698Z",
          "shell.execute_reply.started": "2023-06-01T12:35:05.479662Z",
          "shell.execute_reply": "2023-06-01T12:35:05.486577Z"
        },
        "trusted": true,
        "id": "wKuIeHpXirQs",
        "outputId": "9d5b64b9-8618-439b-f74b-ba68d08cdae2"
      },
      "execution_count": null,
      "outputs": [
        {
          "name": "stdout",
          "text": "-6.12\n",
          "output_type": "stream"
        }
      ]
    },
    {
      "cell_type": "code",
      "source": [
        "#2. 검정통계량 값은?(소수 넷째자리까지 반올림)\n",
        "st, pv = stats.ttest_rel(df['bp_post'],df['bp_pre'],alternative = 'less')\n",
        "print(round(st, 4))"
      ],
      "metadata": {
        "execution": {
          "iopub.status.busy": "2023-06-01T12:40:52.470462Z",
          "iopub.execute_input": "2023-06-01T12:40:52.470806Z",
          "iopub.status.idle": "2023-06-01T12:40:52.477437Z",
          "shell.execute_reply.started": "2023-06-01T12:40:52.470778Z",
          "shell.execute_reply": "2023-06-01T12:40:52.476220Z"
        },
        "trusted": true,
        "id": "VlVUrINxirQs",
        "outputId": "18d8be69-4646-4f02-9a5a-168f804fc4f1"
      },
      "execution_count": null,
      "outputs": [
        {
          "name": "stdout",
          "text": "-3.0002\n",
          "output_type": "stream"
        }
      ]
    },
    {
      "cell_type": "code",
      "source": [
        "#3. p-값은?(소수 넷째자리까지 반올림)\n",
        "print(round(pv, 4))\n",
        "stats.ttest_rel"
      ],
      "metadata": {
        "execution": {
          "iopub.status.busy": "2023-06-01T12:41:14.927744Z",
          "iopub.execute_input": "2023-06-01T12:41:14.928094Z",
          "iopub.status.idle": "2023-06-01T12:41:14.934783Z",
          "shell.execute_reply.started": "2023-06-01T12:41:14.928064Z",
          "shell.execute_reply": "2023-06-01T12:41:14.933067Z"
        },
        "trusted": true,
        "id": "LbGCCE4qirQs",
        "outputId": "d5244b5e-d62c-491c-c7cd-f58d8d5b61d9"
      },
      "execution_count": null,
      "outputs": [
        {
          "name": "stdout",
          "text": "0.0016\n",
          "output_type": "stream"
        }
      ]
    }
  ]
}