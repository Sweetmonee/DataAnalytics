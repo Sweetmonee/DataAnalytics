{
  "nbformat": 4,
  "nbformat_minor": 0,
  "metadata": {
    "colab": {
      "provenance": [],
      "authorship_tag": "ABX9TyPEXKQw7d+n/fG2u1MVbxO5",
      "include_colab_link": true
    },
    "kernelspec": {
      "name": "python3",
      "display_name": "Python 3"
    },
    "language_info": {
      "name": "python"
    }
  },
  "cells": [
    {
      "cell_type": "markdown",
      "metadata": {
        "id": "view-in-github",
        "colab_type": "text"
      },
      "source": [
        "<a href=\"https://colab.research.google.com/github/Sweetmonee/DataAnalytics/blob/main/value_counts.ipynb\" target=\"_parent\"><img src=\"https://colab.research.google.com/assets/colab-badge.svg\" alt=\"Open In Colab\"/></a>"
      ]
    },
    {
      "cell_type": "code",
      "execution_count": null,
      "metadata": {
        "id": "JhhXD6KZ3kg8"
      },
      "outputs": [],
      "source": [
        "# # T1-28. 시간(hour)이 13시 이전(13시 포함하지 않음) 데이터 중 가장 많은 결제가 이루어진 날짜(date)는? (date 컬럼과 동일한 양식으로 출력)\n",
        "\n",
        "# %% [code] {\"execution\":{\"iopub.status.busy\":\"2022-11-29T13:54:42.376133Z\",\"iopub.execute_input\":\"2022-11-29T13:54:42.37659Z\",\"iopub.status.idle\":\"2022-11-29T13:54:42.392846Z\",\"shell.execute_reply.started\":\"2022-11-29T13:54:42.376553Z\",\"shell.execute_reply\":\"2022-11-29T13:54:42.391743Z\"}}\n",
        "import pandas as pd\n",
        "df = pd.read_csv(\"/kaggle/input/bigdatacertificationkr/payment.csv\")\n",
        "\n",
        "df1 = df[df['hour'] < 13]['date'].value_counts()\n",
        "answer = df1.index[0]\n",
        "print(answer)\n"
      ]
    }
  ]
}