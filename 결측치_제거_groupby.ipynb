{
  "nbformat": 4,
  "nbformat_minor": 0,
  "metadata": {
    "colab": {
      "provenance": [],
      "authorship_tag": "ABX9TyOGxjazhYr7l0Dz/t0sbXK5",
      "include_colab_link": true
    },
    "kernelspec": {
      "name": "python3",
      "display_name": "Python 3"
    },
    "language_info": {
      "name": "python"
    }
  },
  "cells": [
    {
      "cell_type": "markdown",
      "metadata": {
        "id": "view-in-github",
        "colab_type": "text"
      },
      "source": [
        "<a href=\"https://colab.research.google.com/github/Sweetmonee/DataAnalytics/blob/main/%EA%B2%B0%EC%B8%A1%EC%B9%98_%EC%A0%9C%EA%B1%B0_groupby.ipynb\" target=\"_parent\"><img src=\"https://colab.research.google.com/assets/colab-badge.svg\" alt=\"Open In Colab\"/></a>"
      ]
    },
    {
      "cell_type": "code",
      "execution_count": null,
      "metadata": {
        "id": "OSirHdZ-sWd7"
      },
      "outputs": [],
      "source": [
        "#데이터 불러오기\n",
        "import pandas as pd\n",
        "import numpy as np\n",
        "\n",
        "df = pd.read_csv('/kaggle/input/bigdatacertificationkr/basic1.csv')\n",
        "#df['f1'] 컬럼 결측치 제거한 데이터 프레임 생성\n",
        "df1 = df.dropna(subset = ['f1']).reset_index(drop = True)\n",
        "#groupby 함수로 묶기\n",
        "df2 = df1.groupby(['city','f2'], as_index = False).sum().reset_index(drop = True)\n",
        "#정답\n",
        "df3 = df2[(df2['city'] == '경기') & (df2['f2'] == 0)]['f1']\n",
        "answer = df3[0]\n",
        "answer"
      ]
    }
  ]
}