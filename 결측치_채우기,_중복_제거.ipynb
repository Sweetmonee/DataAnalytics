{
  "nbformat": 4,
  "nbformat_minor": 0,
  "metadata": {
    "colab": {
      "provenance": [],
      "authorship_tag": "ABX9TyPNVb/lEK81pZHijeJsqnnK",
      "include_colab_link": true
    },
    "kernelspec": {
      "name": "python3",
      "display_name": "Python 3"
    },
    "language_info": {
      "name": "python"
    }
  },
  "cells": [
    {
      "cell_type": "markdown",
      "metadata": {
        "id": "view-in-github",
        "colab_type": "text"
      },
      "source": [
        "<a href=\"https://colab.research.google.com/github/Sweetmonee/DataAnalytics/blob/main/%EA%B2%B0%EC%B8%A1%EC%B9%98_%EC%B1%84%EC%9A%B0%EA%B8%B0%2C_%EC%A4%91%EB%B3%B5_%EC%A0%9C%EA%B1%B0.ipynb\" target=\"_parent\"><img src=\"https://colab.research.google.com/assets/colab-badge.svg\" alt=\"Open In Colab\"/></a>"
      ]
    },
    {
      "cell_type": "code",
      "execution_count": null,
      "metadata": {
        "id": "OYCXNRUAp2zd"
      },
      "outputs": [],
      "source": [
        "# ## f1의 결측치를 채운 후 age 컬럼의 중복 제거 전과 후의 'f1' 중앙값 차이를 구하시오\n",
        "# ### - 결측치는 f1의 데이터 중 10번째로 큰 값으로 채움\n",
        "# ### - 중복 데이터 발생시 뒤에 나오는 데이터를 삭제함\n",
        "# ### - 최종 결과값은 절대값으로 출력\n",
        "#\n",
        "# - 데이터셋 : basic1.csv\n",
        "# - 오른쪽 상단 copy&edit 클릭 -> 예상문제 풀이 시작\n",
        "import pandas as pd\n",
        "import numpy as np\n",
        "\n",
        "df = pd.read_csv('/kaggle/input/bigdatacertificationkr/basic1.csv')\n",
        "df1 = df.copy()\n",
        "# f1 데이터중 10번째로 큰 값으로 결측치 채우기\n",
        "df1['filled_f1'] = df1['f1'].fillna(df1.sort_values('f1', ascending = False)['f1'].iloc[9])\n",
        "# age 컬럼 기준으로 중복 제거\n",
        "df2 = df1.drop_duplicates(subset = ['age'])\n",
        "# 전 후 f1 중앙값 비교\n",
        "f1_median_before = df1['filled_f1'].median()\n",
        "f1_median_after = df2['filled_f1'].median()\n",
        "\n",
        "answer = abs(f1_median_before - f1_median_after)\n",
        "print(answer)\n"
      ]
    }
  ]
}