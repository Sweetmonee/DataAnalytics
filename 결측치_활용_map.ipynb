{
  "nbformat": 4,
  "nbformat_minor": 0,
  "metadata": {
    "colab": {
      "provenance": [],
      "authorship_tag": "ABX9TyPHcR6DL9Q8/FqvvbGMKkbx",
      "include_colab_link": true
    },
    "kernelspec": {
      "name": "python3",
      "display_name": "Python 3"
    },
    "language_info": {
      "name": "python"
    }
  },
  "cells": [
    {
      "cell_type": "markdown",
      "metadata": {
        "id": "view-in-github",
        "colab_type": "text"
      },
      "source": [
        "<a href=\"https://colab.research.google.com/github/Sweetmonee/DataAnalytics/blob/main/%EA%B2%B0%EC%B8%A1%EC%B9%98_%ED%99%9C%EC%9A%A9_map.ipynb\" target=\"_parent\"><img src=\"https://colab.research.google.com/assets/colab-badge.svg\" alt=\"Open In Colab\"/></a>"
      ]
    },
    {
      "cell_type": "code",
      "execution_count": null,
      "metadata": {
        "id": "c6pHSjn715ek"
      },
      "outputs": [],
      "source": [
        "# 라이브러리 및 데이터 불러오기\n",
        "import pandas as pd\n",
        "import numpy as np\n",
        "df = pd.read_csv('/kagcgle/input/bigdatacertificationkr/basic1.csv')\n",
        "df\n",
        "# EDA - 결측값 확인(비율 확인)\n",
        "df.isnull().sum() / df.shape[0]\n",
        "# 80%이상 결측치 컬럼, 삭제\n",
        "bowl_to_drop = []\n",
        "for i in range(0, df.shape[1]):\n",
        "    col = df.columns[i]\n",
        "    if df[col].isnull().sum() / len(df[col]) > 0.8:\n",
        "        bowl_to_drop.append(col)\n",
        "df1 = df.drop(bowl_to_drop, axis = 1)\n",
        "df1\n",
        "# 80%미만 결측치 컬럼, city별 f1 컬럼 중앙값으로 대체\n",
        "df1['city'].unique()\n",
        "s = df1[df1['city'] == '서울']['f1'].median()\n",
        "b = df1[df1['city'] == '부산']['f1'].median()\n",
        "d = df1[df1['city'] == '대구']['f1'].median()\n",
        "k = df1[df1['city'] == '경기']['f1'].median()\n",
        "df1['f1'] = df1['f1'].fillna(df1['city'].map({'서울': s,'부산': b,'대구': d,'경기': k}))\n",
        "df['f1'] = df['f1'].fillna(df['city'].map({'서울':s,'경기':k,'부산':b,'대구':d}))\n",
        "\n",
        "df1\n",
        "# f1 평균값 결과 출력\n",
        "df1[df1['city'] == '서울']['f1'].median()"
      ]
    }
  ]
}