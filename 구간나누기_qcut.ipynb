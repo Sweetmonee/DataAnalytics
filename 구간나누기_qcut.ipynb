{
  "nbformat": 4,
  "nbformat_minor": 0,
  "metadata": {
    "colab": {
      "provenance": [],
      "authorship_tag": "ABX9TyNmLj4dNWlb6MYnB4/QR2Ct",
      "include_colab_link": true
    },
    "kernelspec": {
      "name": "python3",
      "display_name": "Python 3"
    },
    "language_info": {
      "name": "python"
    }
  },
  "cells": [
    {
      "cell_type": "markdown",
      "metadata": {
        "id": "view-in-github",
        "colab_type": "text"
      },
      "source": [
        "<a href=\"https://colab.research.google.com/github/Sweetmonee/DataAnalytics/blob/main/%EA%B5%AC%EA%B0%84%EB%82%98%EB%88%84%EA%B8%B0_qcut.ipynb\" target=\"_parent\"><img src=\"https://colab.research.google.com/assets/colab-badge.svg\" alt=\"Open In Colab\"/></a>"
      ]
    },
    {
      "cell_type": "code",
      "execution_count": null,
      "metadata": {
        "id": "LDndtW-_YhY1"
      },
      "outputs": [],
      "source": [
        "# ## 나이 구간 나누기\n",
        "# ###  basic1 데이터 중 'age'컬럼 이상치를 제거하고, 동일한 개수로 나이 순으로 3그룹으로 나눈 뒤 각 그룹의 중앙값을 더하시오\n",
        "# ### (이상치는 음수(0포함), 소수점 값)\n",
        "# - data: basic1.csv\n",
        "# - 오른쪽 상단 copy&edit 클릭 -> 예상문제 풀이 시작\n",
        "\n",
        "import pandas as pd\n",
        "import numpy as np\n",
        "\n",
        "df = pd.read_csv('/kaggle/input/bigdatacertificationkr/basic1.csv')\n",
        "\n",
        "# 이상치 제거\n",
        "df1 = df[~(df['age'] <= 0)]\n",
        "df2 = df1[~(np.trunc(df1['age']) != df1['age'])].reset_index(drop = True)\n",
        "# 동일한 개수로 3그룹으로 나누기\n",
        "\n",
        "df2['Label'] = pd.qcut(df2['age'], q = 3, labels = [1,2,3])\n",
        "Label_1_median = df2[df2['Label'] == 1]['age'].median()\n",
        "Label_2_median = df2[df2['Label'] == 2]['age'].median()\n",
        "Label_3_median = df2[df2['Label'] == 3]['age'].median()\n",
        "print(df2.info())\n",
        "print(Label_1_median+ Label_2_median+ Label_3_median)"
      ]
    }
  ]
}