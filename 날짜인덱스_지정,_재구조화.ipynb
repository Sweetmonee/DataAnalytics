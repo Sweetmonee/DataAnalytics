{
  "nbformat": 4,
  "nbformat_minor": 0,
  "metadata": {
    "colab": {
      "provenance": [],
      "authorship_tag": "ABX9TyOZeRlmp2VnecS5xsCdbT0B",
      "include_colab_link": true
    },
    "kernelspec": {
      "name": "python3",
      "display_name": "Python 3"
    },
    "language_info": {
      "name": "python"
    }
  },
  "cells": [
    {
      "cell_type": "markdown",
      "metadata": {
        "id": "view-in-github",
        "colab_type": "text"
      },
      "source": [
        "<a href=\"https://colab.research.google.com/github/Sweetmonee/DataAnalytics/blob/main/%EB%82%A0%EC%A7%9C%EC%9D%B8%EB%8D%B1%EC%8A%A4_%EC%A7%80%EC%A0%95%2C_%EC%9E%AC%EA%B5%AC%EC%A1%B0%ED%99%94.ipynb\" target=\"_parent\"><img src=\"https://colab.research.google.com/assets/colab-badge.svg\" alt=\"Open In Colab\"/></a>"
      ]
    },
    {
      "cell_type": "code",
      "execution_count": null,
      "metadata": {
        "id": "J-iEUZxMfKQ1"
      },
      "outputs": [],
      "source": [
        "# # ### 주어진 데이터(basic2.csv)에서 주 단위 Sales의 합계를 구하고, 가장 큰 값을 가진 주와 작은 값을 가진 주의 차이를 구하시오(절대값)\n",
        "# # - 데이터셋 : basic2.csv\n",
        "# # - 오른쪽 상단 copy&edit 클릭 -> 예상문제 풀이 시작\n",
        "\n",
        "import pandas as pd\n",
        "import numpy as np\n",
        "\n",
        "df = pd.read_csv('/kaggle/input/bigdatacertificationkr/basic2.csv')\n",
        "df['Date'] = pd.to_datetime(df['Date'])\n",
        "df = df.set_index('Date')\n",
        "df1 = df.resample('W').sum()\n",
        "#가장 큰 주, 작은 주\n",
        "top_sales_week = df1['Sales'].max()\n",
        "bottom_sales_week = df1['Sales'].min()\n",
        "\n",
        "answer = abs(top_sales_week - bottom_sales_week)\n",
        "print(answer)\n"
      ]
    }
  ]
}