{
  "nbformat": 4,
  "nbformat_minor": 0,
  "metadata": {
    "colab": {
      "provenance": [],
      "authorship_tag": "ABX9TyPqZLoeyRwVCwyODtswXJvO",
      "include_colab_link": true
    },
    "kernelspec": {
      "name": "python3",
      "display_name": "Python 3"
    },
    "language_info": {
      "name": "python"
    }
  },
  "cells": [
    {
      "cell_type": "markdown",
      "metadata": {
        "id": "view-in-github",
        "colab_type": "text"
      },
      "source": [
        "<a href=\"https://colab.research.google.com/github/Sweetmonee/DataAnalytics/blob/main/%EB%88%84%EC%A0%81%ED%95%A9%2C_%EA%B2%B0%EC%B8%A1%EC%B9%98_%EB%B3%B4%EA%B0%95.ipynb\" target=\"_parent\"><img src=\"https://colab.research.google.com/assets/colab-badge.svg\" alt=\"Open In Colab\"/></a>"
      ]
    },
    {
      "cell_type": "code",
      "execution_count": null,
      "metadata": {
        "id": "jJ4wUeFp9esw"
      },
      "outputs": [],
      "source": [
        "# 데이터 읽기\n",
        "import pandas as pd\n",
        "df = pd.read_csv('/kaggle/input/bigdatacertificationkr/basic1.csv')\n",
        "\n",
        "df1 = df[df['f2'] == 1]\n",
        "# 'f2' 컬럼이 1인 조건에 해당하는 데이터의 'f1'컬럼 누적합\n",
        "df1['cumsum'] = df1['f1'].cumsum().fillna(method = 'bfill')\n",
        "\n",
        "answer = df1['cumsum'].mean()\n",
        "answer"
      ]
    }
  ]
}