{
  "nbformat": 4,
  "nbformat_minor": 0,
  "metadata": {
    "colab": {
      "provenance": [],
      "authorship_tag": "ABX9TyNlEyeHYpNSuhPMzjAxMhKJ",
      "include_colab_link": true
    },
    "kernelspec": {
      "name": "python3",
      "display_name": "Python 3"
    },
    "language_info": {
      "name": "python"
    }
  },
  "cells": [
    {
      "cell_type": "markdown",
      "metadata": {
        "id": "view-in-github",
        "colab_type": "text"
      },
      "source": [
        "<a href=\"https://colab.research.google.com/github/Sweetmonee/DataAnalytics/blob/main/%EB%8D%B0%EC%9D%B4%ED%84%B0_%ED%94%84%EB%A0%88%EC%9E%84_%EB%B3%91%ED%95%A9_Merge.ipynb\" target=\"_parent\"><img src=\"https://colab.research.google.com/assets/colab-badge.svg\" alt=\"Open In Colab\"/></a>"
      ]
    },
    {
      "cell_type": "code",
      "execution_count": null,
      "metadata": {
        "id": "rcpb_syFvymr"
      },
      "outputs": [],
      "source": [
        "# ### basic1 데이터와 basic3 데이터를 'f4'값을 기준으로 병합하고,\n",
        "# ### 병합한 데이터에서 r2결측치를 제거한다음, 앞에서 부터 20개 데이터를 선택하고 'f2'컬럼 합을 구하시오\n",
        "#\n",
        "# - basic1.csv: 고객 데이터\n",
        "# - basic3.csv: 잘 어울리는 관계 데이터 (추천1:r1, 추천2:r2)\n",
        "\n",
        "import pandas as pd\n",
        "import numpy as np\n",
        "\n",
        "df = pd.read_csv('/kaggle/input/bigdatacertificationkr/basic1.csv')\n",
        "df1 = pd.read_csv('/kaggle/input/bigdatacertificationkr/basic3.csv')\n",
        "\n",
        "# 'f4' 컬럼 기준 병합\n",
        "df2 = pd.merge(df,df1, on = 'f4', how = 'left')\n",
        "# r2 결측치 제거\n",
        "df3 = df2.dropna(subset = ['r2'])\n",
        "#앞에서 부터 20 개 데이터 선택\n",
        "df4 = df3.head(20)\n",
        "# 인덱스 리셋한다면?\n",
        "df4 = df3.reset_index(drop = True).iloc[:20]\n",
        "\n",
        "answer = df4['f2'].sum()\n",
        "\n",
        "print(answer)"
      ]
    }
  ]
}