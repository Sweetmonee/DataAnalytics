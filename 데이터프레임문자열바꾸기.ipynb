{
  "nbformat": 4,
  "nbformat_minor": 0,
  "metadata": {
    "colab": {
      "provenance": [],
      "authorship_tag": "ABX9TyM0z5X2r1pfPOCZ9AzX5mDs",
      "include_colab_link": true
    },
    "kernelspec": {
      "name": "python3",
      "display_name": "Python 3"
    },
    "language_info": {
      "name": "python"
    }
  },
  "cells": [
    {
      "cell_type": "markdown",
      "metadata": {
        "id": "view-in-github",
        "colab_type": "text"
      },
      "source": [
        "<a href=\"https://colab.research.google.com/github/Sweetmonee/DataAnalytics/blob/main/%EB%8D%B0%EC%9D%B4%ED%84%B0%ED%94%84%EB%A0%88%EC%9E%84%EB%AC%B8%EC%9E%90%EC%97%B4%EB%B0%94%EA%BE%B8%EA%B8%B0.ipynb\" target=\"_parent\"><img src=\"https://colab.research.google.com/assets/colab-badge.svg\" alt=\"Open In Colab\"/></a>"
      ]
    },
    {
      "cell_type": "code",
      "execution_count": null,
      "metadata": {
        "id": "r8n6X5U61xId"
      },
      "outputs": [],
      "source": [
        "# ## T1-27. 바닐라라떼 5점, 카페라떼 3점, 아메리카노 2점, 나머지 0점이다 총 메뉴의 점수를 더한 값은?\n",
        "\n",
        "import pandas as pd\n",
        "df = pd.read_csv(\"/kaggle/input/bigdatacertificationkr/payment.csv\")\n",
        "df['score'] = 0\n",
        "df['menu'] = df['menu'].str.replace(' ','')\n",
        "for i in range(len(df['menu'])):\n",
        "    if df['menu'][i] == '바닐라라떼':\n",
        "        df['score'][i] = 5\n",
        "    elif df['menu'][i] == '카페라떼':\n",
        "        df['score'][i] = 3\n",
        "    elif df['menu'][i] == '아메리카노':\n",
        "        df['score'][i] = 2\n",
        "    else:\n",
        "        continue\n",
        "\n",
        "print(df['score'].sum(),df)\n"
      ]
    }
  ]
}