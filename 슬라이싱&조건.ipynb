{
  "nbformat": 4,
  "nbformat_minor": 0,
  "metadata": {
    "colab": {
      "provenance": [],
      "authorship_tag": "ABX9TyM1pFyPcrPux/rm6Lc4cMhY",
      "include_colab_link": true
    },
    "kernelspec": {
      "name": "python3",
      "display_name": "Python 3"
    },
    "language_info": {
      "name": "python"
    }
  },
  "cells": [
    {
      "cell_type": "markdown",
      "metadata": {
        "id": "view-in-github",
        "colab_type": "text"
      },
      "source": [
        "<a href=\"https://colab.research.google.com/github/Sweetmonee/DataAnalytics/blob/main/%EC%8A%AC%EB%9D%BC%EC%9D%B4%EC%8B%B1%26%EC%A1%B0%EA%B1%B4.ipynb\" target=\"_parent\"><img src=\"https://colab.research.google.com/assets/colab-badge.svg\" alt=\"Open In Colab\"/></a>"
      ]
    },
    {
      "cell_type": "code",
      "execution_count": null,
      "metadata": {
        "id": "y4CwFuO988z7"
      },
      "outputs": [],
      "source": [
        "# 주어진 데이터 셋에서 age컬럼 상위 20개의 데이터를 구한 다음\n",
        "# f1의 결측치를 중앙값으로 채운다.\n",
        "# 그리고 f4가 ISFJ와 f5가 20 이상인\n",
        "# f1의 평균값을 출력하시오!\n",
        "\n",
        "# - 데이터셋 : basic1.csv\n",
        "\n",
        "import pandas as pd\n",
        "import numpy as np\n",
        "\n",
        "df = pd.read_csv('/kaggle/input/bigdatacertificationkr/basic1.csv')\n",
        "#age 컬럼 기준 상위 20개\n",
        "df1 = df.sort_values('age', ascending = False).reset_index(drop = True).iloc[:20]\n",
        "#f1 결측치를 중앙값으로\n",
        "df1['filled_f1'] = df1['f1'].fillna(df1['f1'].median())\n",
        "#f4 == 'ISFJ' & f5 >= 20\n",
        "df2 = df1[(df1['f4'] == 'ISFJ') & (df1['f5'] >= 20)]\n",
        "\n",
        "answer = df2['filled_f1'].mean()\n",
        "print(answer)\n"
      ]
    }
  ]
}