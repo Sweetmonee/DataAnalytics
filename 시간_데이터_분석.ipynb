{
  "nbformat": 4,
  "nbformat_minor": 0,
  "metadata": {
    "colab": {
      "provenance": [],
      "authorship_tag": "ABX9TyNwNBkhGXEmfcSQHQyoInph",
      "include_colab_link": true
    },
    "kernelspec": {
      "name": "python3",
      "display_name": "Python 3"
    },
    "language_info": {
      "name": "python"
    }
  },
  "cells": [
    {
      "cell_type": "markdown",
      "metadata": {
        "id": "view-in-github",
        "colab_type": "text"
      },
      "source": [
        "<a href=\"https://colab.research.google.com/github/Sweetmonee/DataAnalytics/blob/main/%EC%8B%9C%EA%B0%84_%EB%8D%B0%EC%9D%B4%ED%84%B0_%EB%B6%84%EC%84%9D.ipynb\" target=\"_parent\"><img src=\"https://colab.research.google.com/assets/colab-badge.svg\" alt=\"Open In Colab\"/></a>"
      ]
    },
    {
      "cell_type": "code",
      "execution_count": null,
      "metadata": {
        "id": "H5oixi0A8-Ck"
      },
      "outputs": [],
      "source": [
        "import pandas as pd\n",
        "import numpy as np\n",
        "df = pd.read_csv(\"/kaggle/input/bigdatacertificationkr/website.csv\", parse_dates = ['StartTime','EndTime'])\n",
        "# 체류 시간 계산\n",
        "df['stay_time'] = df['EndTime'] - df['StartTime']\n",
        "# 분으로 환산\n",
        "# df['stay_time_minute'] = ''\n",
        "# for i in range(len(df['StartTime'])):\n",
        "#     df['stay_time_minute'][i].replace('', df['stay_time'][i].seconds / 60)\n",
        "\n",
        "# answer1 = round(df['stay_time_minute'].max(),0)\n",
        "# 가장 많이 머무른 페이지 찾기\n",
        "# df1 = df.groupby(['Page'], as_index = False).mean()[['Page', 'stay_time_minute']].sort_values('stay_time_minute', ascending = False).reset_index(drop = True)\n",
        "# answer2 = round(df1['stay_time_minute'][0] / 60, 0)\n",
        "# 3. 시간대 분할 및 출력\n",
        "df['year'] = df['StartTime'].dt.year\n",
        "df['month'] = df['StartTime'].dt.month\n",
        "df['day'] = df['StartTime'].dt.day\n",
        "df['hour'] = df['StartTime'].dt.hour\n",
        "df['count'] = 1\n",
        "df1 = df[['year','month','day','count']].groupby(['year','month','day'], as_index = False).sum()\n",
        "df2 = df1[['year','month','day','count']]\n",
        "df3 = df2.sort_values('count', ascending = False).reset_index(drop = True)\n",
        "print(df3)\n",
        "# 4.\n",
        "# %% [code] {\"execution\":{\"iopub.status.busy\":\"2023-11-25T10:27:02.740081Z\",\"iopub.execute_input\":\"2023-11-25T10:27:02.740406Z\",\"iopub.status.idle\":\"2023-11-25T10:27:02.753106Z\",\"shell.execute_reply.started\":\"2023-11-25T10:27:02.740383Z\",\"shell.execute_reply\":\"2023-11-25T10:27:02.751640Z\"}}\n",
        "# df"
      ]
    }
  ]
}