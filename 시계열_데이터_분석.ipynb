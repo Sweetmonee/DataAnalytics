{
  "nbformat": 4,
  "nbformat_minor": 0,
  "metadata": {
    "colab": {
      "provenance": [],
      "authorship_tag": "ABX9TyO4+WCeQy3X8zv8cuXER/Q/",
      "include_colab_link": true
    },
    "kernelspec": {
      "name": "python3",
      "display_name": "Python 3"
    },
    "language_info": {
      "name": "python"
    }
  },
  "cells": [
    {
      "cell_type": "markdown",
      "metadata": {
        "id": "view-in-github",
        "colab_type": "text"
      },
      "source": [
        "<a href=\"https://colab.research.google.com/github/Sweetmonee/DataAnalytics/blob/main/%EC%8B%9C%EA%B3%84%EC%97%B4_%EB%8D%B0%EC%9D%B4%ED%84%B0_%EB%B6%84%EC%84%9D.ipynb\" target=\"_parent\"><img src=\"https://colab.research.google.com/assets/colab-badge.svg\" alt=\"Open In Colab\"/></a>"
      ]
    },
    {
      "cell_type": "code",
      "execution_count": null,
      "metadata": {
        "id": "KGSrtShli8_C"
      },
      "outputs": [],
      "source": [
        "# ### 2022년 5월 sales의 중앙값을 구하시오\n",
        "#\n",
        "# - 데이터셋 : basic2.csv\n",
        "# - 오른쪽 상단 copy&edit 클릭 -> 예상문제 풀이 시작\n",
        "\n",
        "import pandas as pd\n",
        "import numpy as np\n",
        "\n",
        "# parse_dates를 활용해 날짜컬럼 읽기\n",
        "df = pd.read_csv('/kaggle/input/bigdatacertificationkr/basic2.csv', parse_dates = ['Date'])\n",
        "#2022년 5월만 분리\n",
        "df1 = df[(df['Date'].dt.year == 2022)&(df['Date'].dt.month == 5)]\n",
        "#정답\n",
        "answer = df1['Sales'].median()\n",
        "print(answer)"
      ]
    }
  ]
}