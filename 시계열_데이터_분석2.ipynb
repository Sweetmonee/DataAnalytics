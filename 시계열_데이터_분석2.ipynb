{
  "nbformat": 4,
  "nbformat_minor": 0,
  "metadata": {
    "colab": {
      "provenance": [],
      "authorship_tag": "ABX9TyPeIRADExmS2UYqCiDoOr/X",
      "include_colab_link": true
    },
    "kernelspec": {
      "name": "python3",
      "display_name": "Python 3"
    },
    "language_info": {
      "name": "python"
    }
  },
  "cells": [
    {
      "cell_type": "markdown",
      "metadata": {
        "id": "view-in-github",
        "colab_type": "text"
      },
      "source": [
        "<a href=\"https://colab.research.google.com/github/Sweetmonee/DataAnalytics/blob/main/%EC%8B%9C%EA%B3%84%EC%97%B4_%EB%8D%B0%EC%9D%B4%ED%84%B0_%EB%B6%84%EC%84%9D2.ipynb\" target=\"_parent\"><img src=\"https://colab.research.google.com/assets/colab-badge.svg\" alt=\"Open In Colab\"/></a>"
      ]
    },
    {
      "cell_type": "code",
      "execution_count": null,
      "metadata": {
        "id": "aFyChrQJi_wG"
      },
      "outputs": [],
      "source": [
        "# # ## 주어진 데이터에서 2022년 5월 주말과 평일의 sales컬럼 평균값 차이를 구하시오 (소수점 둘째자리까지 출력, 반올림)\n",
        "# # - 데이터셋 : basic2.csv\n",
        "# # - 오른쪽 상단 copy&edit 클릭 -> 예상문제 풀이 시작\n",
        "\n",
        "import pandas as pd\n",
        "import numpy as np\n",
        "\n",
        "df = pd.read_csv('/kaggle/input/bigdatacertificationkr/basic2.csv', parse_dates = ['Date'])\n",
        "# 주말 분류가능하게\n",
        "\n",
        "# 1 == Mon ~ 7 == Sun\n",
        "df['DayNumber'] = df['Date'].dt.dayofweek\n",
        "\n",
        "# 2022년 5월 분리\n",
        "df1 = df[(df['Date'].dt.year == 2022) & (df['Date'].dt.month == 5)]\n",
        "\n",
        "#주말 평일 계산\n",
        "df1_week = df1[(df1['DayNumber'] == 1) | (df1['DayNumber'] == 2) | (df1['DayNumber'] == 3) | (df1['DayNumber'] == 4) | (df1['DayNumber'] == 0)]\n",
        "df1_weekend = df1[(df1['DayNumber'] == 5) |(df1['DayNumber'] == 6)]\n",
        "df1_week_Sales_average = df1_week['Sales'].mean()\n",
        "df1_weekend_Sales_average = df1_weekend['Sales'].mean()\n",
        "\n",
        "answer = round(abs(df1_week_Sales_average - df1_weekend_Sales_average), 2)\n",
        "print(answer)"
      ]
    }
  ]
}