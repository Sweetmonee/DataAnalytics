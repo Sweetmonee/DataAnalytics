{
  "nbformat": 4,
  "nbformat_minor": 0,
  "metadata": {
    "colab": {
      "provenance": [],
      "authorship_tag": "ABX9TyMBBpB2aP2LGWOf6G8fQB/J",
      "include_colab_link": true
    },
    "kernelspec": {
      "name": "python3",
      "display_name": "Python 3"
    },
    "language_info": {
      "name": "python"
    }
  },
  "cells": [
    {
      "cell_type": "markdown",
      "metadata": {
        "id": "view-in-github",
        "colab_type": "text"
      },
      "source": [
        "<a href=\"https://colab.research.google.com/github/Sweetmonee/DataAnalytics/blob/main/%EC%8B%9C%EA%B3%84%EC%97%B4_%EB%8D%B0%EC%9D%B4%ED%84%B0_%EB%B6%84%EC%84%9D_3.ipynb\" target=\"_parent\"><img src=\"https://colab.research.google.com/assets/colab-badge.svg\" alt=\"Open In Colab\"/></a>"
      ]
    },
    {
      "cell_type": "code",
      "execution_count": null,
      "metadata": {
        "id": "jqA4AjysvpCU"
      },
      "outputs": [],
      "source": [
        "# ### 주어진 데이터에서 2022년 월별 Sales 합계 중 가장 큰 금액과\n",
        "# ### 2023년 월별 Sales 합계 중 가장 큰 금액의 차이를 절대값으로 구하시오.\n",
        "# ### 단 Events컬럼이 '1'인경우 80%의 Salse값만 반영함\n",
        "# ### (최종값은 소수점 반올림 후 정수 출력)\n",
        "# - 데이터셋 : basic2.csv\n",
        "# - 오른쪽 상단 copy&edit 클릭 -> 예상문제 풀이 시작\n",
        "\n",
        "import pandas as pd\n",
        "import numpy as np\n",
        "\n",
        "df = pd.read_csv('/kaggle/input/bigdatacertificationkr/basic2.csv', parse_dates = ['Date'])\n",
        "\n",
        "# 2022 & 2023\n",
        "\n",
        "df1 = df[(df['Date'].dt.year == 2023) | (df['Date'].dt.year == 2022)]\n",
        "df1['Year']  = df1['Date'].dt.year\n",
        "df1['Month'] = df1['Date'].dt.month\n",
        "\n",
        "# Events가 1이면 80%만 반영\n",
        "df1['New_Sales'] = 0\n",
        "for i in range(len(df1['Events'])):\n",
        "    if df1['Events'][i] == 1:\n",
        "        df1['New_Sales'][i] = df1['Sales'][i] * 0.8\n",
        "    else:\n",
        "        df1['New_Sales'][i] = df1['Sales'][i]\n",
        "# 2022, 2023 중 가장 매출이 큰 달\n",
        "\n",
        "df2 = df1[['Year','Month','New_Sales']]\n",
        "df3 = df2.groupby(['Year', 'Month'], as_index = False).sum().reset_index(drop = True)\n",
        "\n",
        "Salesof2022 = df3[df3['Year'] == 2022]['New_Sales'].max()\n",
        "Salesof2023 = df3[df3['Year'] == 2023]['New_Sales'].max()\n",
        "\n",
        "answer = round(abs(Salesof2022-Salesof2023), 2)\n",
        "print(answer)"
      ]
    }
  ]
}