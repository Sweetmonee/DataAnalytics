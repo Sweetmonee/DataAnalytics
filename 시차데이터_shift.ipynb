{
  "nbformat": 4,
  "nbformat_minor": 0,
  "metadata": {
    "colab": {
      "provenance": [],
      "authorship_tag": "ABX9TyM5bo1uSSs2SnKOMYzo5VnC",
      "include_colab_link": true
    },
    "kernelspec": {
      "name": "python3",
      "display_name": "Python 3"
    },
    "language_info": {
      "name": "python"
    }
  },
  "cells": [
    {
      "cell_type": "markdown",
      "metadata": {
        "id": "view-in-github",
        "colab_type": "text"
      },
      "source": [
        "<a href=\"https://colab.research.google.com/github/Sweetmonee/DataAnalytics/blob/main/%EC%8B%9C%EC%B0%A8%EB%8D%B0%EC%9D%B4%ED%84%B0_shift.ipynb\" target=\"_parent\"><img src=\"https://colab.research.google.com/assets/colab-badge.svg\" alt=\"Open In Colab\"/></a>"
      ]
    },
    {
      "cell_type": "code",
      "execution_count": null,
      "metadata": {
        "id": "-LpHvZqizLym"
      },
      "outputs": [],
      "source": [
        "import pandas as pd\n",
        "import numpy as np\n",
        "​\n",
        "df = pd.read_csv('/kaggle/input/bigdatacertificationkr/basic2.csv', parse_dates = ['Date'])\n",
        "# 하나씩 데이터 미룬 컬럼 생성하고 결측치 보강\n",
        "df['previous_PV'] = df['PV'].shift(1)\n",
        "df['previous_PV'] = df['previous_PV'].fillna(method = 'bfill')\n",
        "​\n",
        "# Events == 1 & Sales <= 1000000\n",
        "df1 = df[(df['Events'] == 1) & (df['Sales'] <= 1000000)].reset_index(drop = True)\n",
        "​\n",
        "answer = df1['previous_PV'].sum()\n",
        "print(answer)\n",
        "​"
      ]
    }
  ]
}