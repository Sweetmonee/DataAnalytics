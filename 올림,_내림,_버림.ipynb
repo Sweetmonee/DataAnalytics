{
  "nbformat": 4,
  "nbformat_minor": 0,
  "metadata": {
    "colab": {
      "provenance": [],
      "authorship_tag": "ABX9TyNF7kYOygRGBI3LTdVEyBli",
      "include_colab_link": true
    },
    "kernelspec": {
      "name": "python3",
      "display_name": "Python 3"
    },
    "language_info": {
      "name": "python"
    }
  },
  "cells": [
    {
      "cell_type": "markdown",
      "metadata": {
        "id": "view-in-github",
        "colab_type": "text"
      },
      "source": [
        "<a href=\"https://colab.research.google.com/github/Sweetmonee/DataAnalytics/blob/main/%EC%98%AC%EB%A6%BC%2C_%EB%82%B4%EB%A6%BC%2C_%EB%B2%84%EB%A6%BC.ipynb\" target=\"_parent\"><img src=\"https://colab.research.google.com/assets/colab-badge.svg\" alt=\"Open In Colab\"/></a>"
      ]
    },
    {
      "cell_type": "code",
      "execution_count": null,
      "metadata": {
        "id": "6aQ67X7wApF9"
      },
      "outputs": [],
      "source": [
        "주어진 데이터에서 이상치(소수점 나이)를 찾고 올림, 내림, 버림(절사)했을때 3가지 모두 이상치 'age' 평균을 구한 다음 모두 더하여 출력하시오\n",
        "import pandas as pd\n",
        "\n",
        "df = pd.read_csv('/kaggle/input/bigdatacertificationkr/basic1.csv')\n",
        "df\n",
        "\n",
        "# 소수점 데이터 찾기\n",
        "import numpy as np\n",
        "df_oulier = df[df['age'] != np.trunc(df['age'])]\n",
        "df_oulier\n",
        "\n",
        "\n",
        "# 이상치를 포함한 데이터 올림, 내림, 버림의 평균값\n",
        "df_oulier_age_ceil_mean = np.ceil(df_oulier['age']).mean()\n",
        "df_oulier_age_floor_mean = np.floor(df_oulier['age']).mean()\n",
        "df_oulier_age_trunc_mean = np.trunc(df_oulier['age']).mean()\n",
        "df_oulier_age_trunc_mean\n",
        "\n",
        "# 평균값 더한 다음 출력\n",
        "answer = df_oulier_age_ceil_mean + df_oulier_age_floor_mean + df_oulier_age_trunc_mean\n",
        "answer\n",
        "\n",
        "# 하지만 문제에서 제시한 조건은 데이터 프레임에서 나이가 - 인 사람들을 다 걸러내지는 못함"
      ]
    }
  ]
}