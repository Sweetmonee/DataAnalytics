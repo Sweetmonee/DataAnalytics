{
  "nbformat": 4,
  "nbformat_minor": 0,
  "metadata": {
    "colab": {
      "provenance": [],
      "authorship_tag": "ABX9TyP/6qngQsxRzzJJI82gpBEd",
      "include_colab_link": true
    },
    "kernelspec": {
      "name": "python3",
      "display_name": "Python 3"
    },
    "language_info": {
      "name": "python"
    }
  },
  "cells": [
    {
      "cell_type": "markdown",
      "metadata": {
        "id": "view-in-github",
        "colab_type": "text"
      },
      "source": [
        "<a href=\"https://colab.research.google.com/github/Sweetmonee/DataAnalytics/blob/main/%EC%98%AC%EB%A6%BC%2C_%EB%82%B4%EB%A6%BC%2C_%EB%B2%84%EB%A6%BC.ipynb\" target=\"_parent\"><img src=\"https://colab.research.google.com/assets/colab-badge.svg\" alt=\"Open In Colab\"/></a>"
      ]
    },
    {
      "cell_type": "code",
      "execution_count": null,
      "metadata": {
        "id": "6aQ67X7wApF9"
      },
      "outputs": [],
      "source": [
        "import pandas as pd\n",
        "\n",
        "df = pd.read_csv('/kaggle/input/bigdatacertificationkr/basic1.csv')\n",
        "df\n",
        "\n",
        "# 소수점 데이터 찾기\n",
        "import numpy as np\n",
        "df_oulier = df[df['age'] != np.trunc(df['age'])]\n",
        "df_oulier\n",
        "\n",
        "\n",
        "# 이상치를 포함한 데이터 올림, 내림, 버림의 평균값\n",
        "df_oulier_age_ceil_mean = np.ceil(df_oulier['age']).mean()\n",
        "df_oulier_age_floor_mean = np.floor(df_oulier['age']).mean()\n",
        "df_oulier_age_trunc_mean = np.trunc(df_oulier['age']).mean()\n",
        "df_oulier_age_trunc_mean\n",
        "\n",
        "# 평균값 더한 다음 출력\n",
        "answer = df_oulier_age_ceil_mean + df_oulier_age_floor_mean + df_oulier_age_trunc_mean\n",
        "answer"
      ]
    }
  ]
}