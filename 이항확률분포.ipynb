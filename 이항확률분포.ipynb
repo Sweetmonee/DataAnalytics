{
  "nbformat": 4,
  "nbformat_minor": 0,
  "metadata": {
    "colab": {
      "provenance": [],
      "authorship_tag": "ABX9TyPD4K4l+Hv3PjKY5J4caw/S",
      "include_colab_link": true
    },
    "kernelspec": {
      "name": "python3",
      "display_name": "Python 3"
    },
    "language_info": {
      "name": "python"
    }
  },
  "cells": [
    {
      "cell_type": "markdown",
      "metadata": {
        "id": "view-in-github",
        "colab_type": "text"
      },
      "source": [
        "<a href=\"https://colab.research.google.com/github/Sweetmonee/DataAnalytics/blob/main/%EC%9D%B4%ED%95%AD%ED%99%95%EB%A5%A0%EB%B6%84%ED%8F%AC.ipynb\" target=\"_parent\"><img src=\"https://colab.research.google.com/assets/colab-badge.svg\" alt=\"Open In Colab\"/></a>"
      ]
    },
    {
      "cell_type": "code",
      "execution_count": null,
      "metadata": {
        "id": "1q_FY2oKBfEg"
      },
      "outputs": [],
      "source": [
        "import pandas as pd\n",
        "from scipy.stats import binom\n",
        "\n",
        "df = pd.read_csv(\"/kaggle/input/bigdatacertificationkr/t3_success.csv\")\n",
        "\n",
        "\n",
        "df[df['Success'] == 1].sum() # 1 62, 0 38\n",
        "#1번, 62퍼, 0 38퍼\n",
        "\n",
        "#100 번의 시행 중 정확히 60번 성공할 확률\n",
        "probability_60 = binom.pmf(60,100,0.62)\n",
        "probability_60\n",
        "#100 번의 시행 중 60번 이하로 성공할 확률\n",
        "probability_under_60 = binom.cdf(60, 100, 0.62)\n",
        "#100번의 시행 중 60번 초과하여 성공할 확률\n",
        "probability_over_60 = 1 - binom.cdf(60, 100, 0.62)\n",
        "#100번 시행 중 성공확률이 0.5를 넘어서는 최소 시행횟수\n",
        "probability_cdf_60 = binom.ppf(0.5, 100, 0.62)\n",
        "\n",
        "print(probability_60, probability_under_60, probability_over_60, probability_cdf_60)"
      ]
    }
  ]
}