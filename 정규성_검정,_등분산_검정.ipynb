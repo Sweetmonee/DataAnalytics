{
  "nbformat": 4,
  "nbformat_minor": 0,
  "metadata": {
    "colab": {
      "provenance": [],
      "authorship_tag": "ABX9TyNF7Z02mMG+vkQKpjeDC9od",
      "include_colab_link": true
    },
    "kernelspec": {
      "name": "python3",
      "display_name": "Python 3"
    },
    "language_info": {
      "name": "python"
    }
  },
  "cells": [
    {
      "cell_type": "markdown",
      "metadata": {
        "id": "view-in-github",
        "colab_type": "text"
      },
      "source": [
        "<a href=\"https://colab.research.google.com/github/Sweetmonee/DataAnalytics/blob/main/%EC%A0%95%EA%B7%9C%EC%84%B1_%EA%B2%80%EC%A0%95%2C_%EB%93%B1%EB%B6%84%EC%82%B0_%EA%B2%80%EC%A0%95.ipynb\" target=\"_parent\"><img src=\"https://colab.research.google.com/assets/colab-badge.svg\" alt=\"Open In Colab\"/></a>"
      ]
    },
    {
      "cell_type": "code",
      "execution_count": 10,
      "metadata": {
        "colab": {
          "base_uri": "https://localhost:8080/"
        },
        "id": "RDE-EiSrcSa0",
        "outputId": "98237a0f-aae3-41ad-caec-8afc3e950be8"
      },
      "outputs": [
        {
          "output_type": "stream",
          "name": "stdout",
          "text": [
            "0.9995355606079102 0.1507067084312439\n",
            "0.8266993530405671 [0.576 0.656 0.786 0.917 1.091] [15.  10.   5.   2.5  1. ]\n"
          ]
        },
        {
          "output_type": "stream",
          "name": "stderr",
          "text": [
            "/usr/local/lib/python3.10/dist-packages/scipy/stats/_morestats.py:1882: UserWarning: p-value may not be accurate for N > 5000.\n",
            "  warnings.warn(\"p-value may not be accurate for N > 5000.\")\n"
          ]
        }
      ],
      "source": [
        "#표본수가 5000개 이상인 데이터의 정규성 검정\n",
        "import pandas as pd\n",
        "import matplotlib.pyplot as plt\n",
        "df = pd.read_csv('https://raw.githubusercontent.com/Datamanim/datarepo/main/scipy/normal6.csv')\n",
        "\n",
        "\n",
        "from scipy.stats import anderson\n",
        "\n",
        "a_stats, example, alpha = anderson(df['data'].values)\n",
        "\n",
        "from scipy.stats import shapiro\n",
        "\n",
        "s_stats, p_value = shapiro(df)\n",
        "print(s_stats, p_value)\n",
        "print(a_stats, example, alpha)\n",
        "\n",
        "\n"
      ]
    },
    {
      "cell_type": "markdown",
      "source": [
        "# 100명의 키 정보가 들어 있는 데이터가 있다.데이터가 정규성을 만족하는지 확인하라.\n",
        "그리고 평균키는 165라 판단할수 있는지 귀무가설과 대립가설을 설정한 후 유의수준 5%로 검정하라."
      ],
      "metadata": {
        "id": "JuGG1R5WwTLT"
      }
    },
    {
      "cell_type": "code",
      "source": [
        "#단일 표본 t검정\n",
        "import pandas as pd\n",
        "df = pd.read_csv('https://raw.githubusercontent.com/Datamanim/datarepo/main/scipy/height1.csv')\n",
        "\n",
        "from scipy.stats import shapiro\n",
        "from scipy.stats import ttest_1samp\n",
        "from scipy.stats import wilcoxon\n",
        "s_stats, s_p_value = shapiro(df)\n",
        "s_stats, s_p_value\n",
        "\n",
        "# 정규성 만족\n",
        "\n",
        "if s_p_value >= 0.05:\n",
        "  print(f\"데이터 프레임은 정규분포를 만족합니다. 따라서 T-test 단일 표본 검정을 실시하도록 하겠습니다.\")\n",
        "  t_stats, t_p_value = ttest_1samp(df, 165)\n",
        "  if t_p_value >= 0.05:\n",
        "    print(f\"T-test 검정 결과 p_values는{t_p_value}입니다. 따라서 평균키는 165라고 할 수 있습니다.\")\n",
        "  else:\n",
        "    print(f\"T-test 검정 결과 p_values는{t_p_value}입니다. 따라서 평균키는 165라고 할 수 없습니다.\")\n",
        "else:\n",
        "  print(f\"데이터 프레임은 정규분포를 만족하지 않습니다. 따라서 비모수 검정인 wilcoxon 순위 부호 검정을 실시하도록 하겠습니다.\")\n",
        "  w_stats, w_p_value = wilcoxon(df['height']- 165)\n",
        "  if t_p_value >= 0.05:\n",
        "    print(f\"윌콕슨 순위부호 검정 결과 p_values는{w_p_value}입니다. 따라서 평균키는 165라고 할 수 있습니다.\")\n",
        "  else:\n",
        "    print(f\"윌콕슨 순위부호 검정 결과 p_values는{w_p_value}입니다. 따라서 평균키는 165라고 할 수 없습니다.\")\n",
        "\n",
        "\n"
      ],
      "metadata": {
        "colab": {
          "base_uri": "https://localhost:8080/"
        },
        "id": "AiLdrSYPvjpC",
        "outputId": "0077243f-a198-4599-ff9a-85b3792d3ac4"
      },
      "execution_count": 19,
      "outputs": [
        {
          "output_type": "stream",
          "name": "stdout",
          "text": [
            "데이터 프레임은 정규분포를 만족합니다. 따라서 T-test 단일 표본 검정을 실시하도록 하겠습니다.\n",
            "T-test 검정 결과 p_values는[0.00183672]입니다. 따라서 평균키는 165라고 할 수 없습니다.\n"
          ]
        },
        {
          "output_type": "execute_result",
          "data": {
            "text/plain": [
              "(array([3.2017885]), array([0.00183672]))"
            ]
          },
          "metadata": {},
          "execution_count": 19
        }
      ]
    },
    {
      "cell_type": "markdown",
      "source": [
        "100명의 키 정보가 들어 있는 데이터가 있다.데이터가 정규성을 만족하는지 확인하라.\n",
        "그리고 평균키는 165라 판단할수 있는지 귀무가설과 대립가설을 설정한 후 유의수준 5%로 검정하라."
      ],
      "metadata": {
        "id": "mHHUw6hWzs1E"
      }
    },
    {
      "cell_type": "code",
      "source": [
        "import pandas as pd\n",
        "df = pd.read_csv('https://raw.githubusercontent.com/Datamanim/datarepo/main/scipy/height2.csv')\n",
        "\n",
        "from scipy.stats import shapiro\n",
        "from scipy.stats import wilcoxon\n",
        "from scipy.stats import ttest_1samp\n",
        "\n",
        "s_stats, s_p_value = shapiro(df['height'])\n",
        "\n",
        "if s_p_value >= 0.05:\n",
        "  print(f\"데이터 프레임은 정규분포를 만족합니다. 따라서 T-test 단일 표본 검정을 실시하도록 하겠습니다.\")\n",
        "  t_stats, t_p_value = ttest_1samp(df, 165)\n",
        "  if t_p_value >= 0.05:\n",
        "    print(f\"T-test 검정 결과 p_values는{t_p_value}입니다. 따라서 평균키는 165라고 할 수 있습니다.\")\n",
        "  else:\n",
        "    print(f\"T-test 검정 결과 p_values는{t_p_value}입니다. 따라서 평균키는 165라고 할 수 없습니다.\")\n",
        "else:\n",
        "  print(f\"데이터 프레임은 정규분포를 만족하지 않습니다. 따라서 비모수 검정인 wilcoxon 순위 부호 검정을 실시하도록 하겠습니다.\")\n",
        "  w_stats, w_p_value = wilcoxon(df['height']- 165)\n",
        "  if t_p_value >= 0.05:\n",
        "    print(f\"윌콕슨 순위부호 검정 결과 p_values는{w_p_value}입니다. 따라서 평균키는 165라고 할 수 있습니다.\")\n",
        "  else:\n",
        "    print(f\"윌콕슨 순위부호 검정 결과 p_values는{w_p_value}입니다. 따라서 평균키는 165라고 할 수 없습니다.\")"
      ],
      "metadata": {
        "colab": {
          "base_uri": "https://localhost:8080/"
        },
        "id": "nuMVmB49zt3Z",
        "outputId": "6a0dc905-88ae-4c8a-f1dd-0becf040dca4"
      },
      "execution_count": 22,
      "outputs": [
        {
          "output_type": "stream",
          "name": "stdout",
          "text": [
            "데이터 프레임은 정규분포를 만족하지 않습니다. 따라서 비모수 검정인 wilcoxon 순위 부호 검정을 실시하도록 하겠습니다.\n",
            "윌콕슨 순위부호 검정 결과 p_values는0.04880534424649582입니다. 따라서 평균키는 165라고 할 수 없습니다.\n"
          ]
        }
      ]
    },
    {
      "cell_type": "markdown",
      "source": [
        "두개 학급의 시험성적에 대한 데이터이다 그룹간 등분산 검정을 시행하라"
      ],
      "metadata": {
        "id": "ngVlhLkw0l-3"
      }
    },
    {
      "cell_type": "code",
      "source": [
        "import pandas as pd\n",
        "df = pd.read_csv('https://raw.githubusercontent.com/Datamanim/datarepo/main/scipy/scipy2.csv')\n",
        "\n",
        "from scipy.stats import levene\n",
        "from scipy.stats import bartlett\n",
        "from scipy.stats import fligner\n",
        "\n",
        "a = df[df['class'] == 'A']['score']\n",
        "b = df[df['class'] == 'B']['score']\n",
        "\n",
        "l_stats, l_p_value = levene(a,b)\n",
        "b_stats, b_p_value = bartlett(a,b)\n",
        "f_stats, f_p_value = fligner(a,b)\n",
        "print(l_stats, l_p_value)\n",
        "print(b_stats, b_p_value)\n",
        "print(f_stats, f_p_value)"
      ],
      "metadata": {
        "colab": {
          "base_uri": "https://localhost:8080/"
        },
        "id": "o40SWPuw0nLE",
        "outputId": "306d1098-9e33-4514-bdec-687fb5d973cf"
      },
      "execution_count": 28,
      "outputs": [
        {
          "output_type": "stream",
          "name": "stdout",
          "text": [
            "0.3145466542912649 0.5751662820554713\n",
            "0.26035880448930865 0.609873758447687\n",
            "0.7281251154135562 0.39349158741002765\n"
          ]
        }
      ]
    },
    {
      "cell_type": "markdown",
      "source": [
        "두개 학급의 시험성적에 대한 데이터이다 그룹간 등분산 검정을 시행하라"
      ],
      "metadata": {
        "id": "QhRQWltv2Ytb"
      }
    },
    {
      "cell_type": "code",
      "source": [
        "import pandas as pd\n",
        "df = pd.read_csv('https://raw.githubusercontent.com/Datamanim/datarepo/main/scipy/scipy3.csv')\n",
        "\n",
        "\n",
        "from scipy.stats import levene\n",
        "from scipy.stats import fligner\n",
        "from scipy.stats import bartlett\n",
        "from scipy.stats import skew, kurtosis\n",
        "\n",
        "\n",
        "a = df[df['class'] == 'A']['score']\n",
        "b = df[df['class'] == 'B']['score']\n",
        "print(skew(a))\n",
        "print(kurtosis(a))\n",
        "\n",
        "l_stats, l_p_value = levene(a,b)\n",
        "b_stats, b_p_value = bartlett(a,b)\n",
        "f_stats, f_p_value = fligner(a,b)\n",
        "\n",
        "print(l_stats, l_p_value)\n",
        "print(b_stats, b_p_value)\n",
        "print(f_stats, f_p_value)"
      ],
      "metadata": {
        "colab": {
          "base_uri": "https://localhost:8080/"
        },
        "id": "ok6qEALs2cvO",
        "outputId": "108283f8-6d3f-4f8c-f735-9bf5cb92b738"
      },
      "execution_count": 33,
      "outputs": [
        {
          "output_type": "stream",
          "name": "stdout",
          "text": [
            "-0.10636928016566337\n",
            "-1.237132098188379\n",
            "4.307122424591436 0.03848734007752694\n",
            "1.5116783794562305 0.2188831590902503\n",
            "4.960366756026232 0.025934706256615564\n"
          ]
        }
      ]
    },
    {
      "cell_type": "markdown",
      "source": [
        "두개 학급의 시험성적에 대한 데이터이다 그룹간 등분산 검정을 시행하라"
      ],
      "metadata": {
        "id": "3JhY6a7p3d6k"
      }
    },
    {
      "cell_type": "code",
      "source": [
        "import pandas as pd\n",
        "df = pd.read_csv('https://raw.githubusercontent.com/Datamanim/datarepo/main/scipy/scipy6.csv')\n",
        "from scipy.stats import levene\n",
        "from scipy.stats import fligner\n",
        "from scipy.stats import bartlett\n",
        "from scipy.stats import skew, kurtosis\n",
        "df\n",
        "\n",
        "a = df['A']\n",
        "b = df['B']\n",
        "print(skew(a))\n",
        "print(kurtosis(a))\n",
        "\n",
        "l_stats, l_p_value = levene(a,b)\n",
        "b_stats, b_p_value = bartlett(a,b)\n",
        "f_stats, f_p_value = fligner(a,b)\n",
        "\n",
        "print(l_stats, l_p_value)\n",
        "print(b_stats, b_p_value)\n",
        "print(f_stats, f_p_value)"
      ],
      "metadata": {
        "colab": {
          "base_uri": "https://localhost:8080/"
        },
        "id": "vaTBffD33eBQ",
        "outputId": "cc024bec-1560-4337-895f-c7e74624e8ae"
      },
      "execution_count": 37,
      "outputs": [
        {
          "output_type": "stream",
          "name": "stdout",
          "text": [
            "0.13393695235451905\n",
            "-0.9981373684318937\n",
            "5.147914610463281 0.023868975493455683\n",
            "2.3832178811043527 0.12264468401745829\n",
            "5.124831619122788 0.023585858890699054\n"
          ]
        }
      ]
    },
    {
      "cell_type": "markdown",
      "source": [
        "두개 학급의 시험성적에 대한 데이터이다 그룹간 등분산 검정을 시행하라"
      ],
      "metadata": {
        "id": "rW5pB8Zh36rk"
      }
    },
    {
      "cell_type": "code",
      "source": [
        "import pandas as pd\n",
        "df = pd.read_csv('https://raw.githubusercontent.com/Datamanim/datarepo/main/scipy/scipy5.csv')\n",
        "\n",
        "from scipy.stats import levene\n",
        "from scipy.stats import fligner\n",
        "from scipy.stats import bartlett\n",
        "from scipy.stats import skew, kurtosis\n",
        "\n",
        "\n",
        "a = df['A']\n",
        "b = df.dropna()['B']\n",
        "print(skew(a))\n",
        "print(kurtosis(a))\n",
        "\n",
        "l_stats, l_p_value = levene(a,b)\n",
        "b_stats, b_p_value = bartlett(a,b)\n",
        "f_stats, f_p_value = fligner(a,b)\n",
        "\n",
        "print(b_stats, b_p_value)\n",
        "print(l_stats, l_p_value)\n",
        "print(f_stats, f_p_value)\n",
        "\n"
      ],
      "metadata": {
        "colab": {
          "base_uri": "https://localhost:8080/"
        },
        "id": "7iRmSO0h36wq",
        "outputId": "c63c5164-f73c-4eff-fdca-0f0b386d99ed"
      },
      "execution_count": 50,
      "outputs": [
        {
          "output_type": "stream",
          "name": "stdout",
          "text": [
            "0.003557150040865026\n",
            "-1.314484566988291\n",
            "3.024072692680794 0.08203720607748438\n",
            "8.008595918808284 0.004851565077063284\n",
            "7.710320541528441 0.005490600130793619\n"
          ]
        }
      ]
    }
  ]
}