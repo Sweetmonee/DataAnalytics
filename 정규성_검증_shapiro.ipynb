{
  "nbformat": 4,
  "nbformat_minor": 0,
  "metadata": {
    "colab": {
      "provenance": [],
      "authorship_tag": "ABX9TyPkomq59MIkPKvIEN75N2B+",
      "include_colab_link": true
    },
    "kernelspec": {
      "name": "python3",
      "display_name": "Python 3"
    },
    "language_info": {
      "name": "python"
    }
  },
  "cells": [
    {
      "cell_type": "markdown",
      "metadata": {
        "id": "view-in-github",
        "colab_type": "text"
      },
      "source": [
        "<a href=\"https://colab.research.google.com/github/Sweetmonee/DataAnalytics/blob/main/%EC%A0%95%EA%B7%9C%EC%84%B1_%EA%B2%80%EC%A6%9D_shapiro.ipynb\" target=\"_parent\"><img src=\"https://colab.research.google.com/assets/colab-badge.svg\" alt=\"Open In Colab\"/></a>"
      ]
    },
    {
      "cell_type": "code",
      "execution_count": null,
      "metadata": {
        "id": "sX0QhFrvMfhr"
      },
      "outputs": [],
      "source": [
        "from scipy import stats\n",
        "\n",
        "data = [75, 83, 81, 92, 68, 77, 78, 80, 85, 95, 79, 89]\n",
        "\n",
        "# Shapiro-Wilk 검정 수행\n",
        "statistic, p_value = stats.shapiro(data)\n",
        "\n",
        "# 결과 출력\n",
        "print(\"Shapiro-Wilk 검정 통계량:\", statistic)\n",
        "print(\"p-value:\", p_value)\n",
        "\n",
        "# 유의 수준 0.05에서의 검정 결과 확인\n",
        "alpha = 0.05\n",
        "if p_value > alpha:\n",
        "    print(\"귀무 가설을 기각할 수 없다. 데이터는 정규 분포를 따름\")\n",
        "else:\n",
        "    print(\"귀무 가설을 기각한다. 데이터는 정규 분포를 따르지 않음\")"
      ]
    }
  ]
}