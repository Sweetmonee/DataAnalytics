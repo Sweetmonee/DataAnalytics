{
  "nbformat": 4,
  "nbformat_minor": 0,
  "metadata": {
    "colab": {
      "provenance": [],
      "authorship_tag": "ABX9TyMrbzM7cMNaMMkNZTrmIQFW",
      "include_colab_link": true
    },
    "kernelspec": {
      "name": "python3",
      "display_name": "Python 3"
    },
    "language_info": {
      "name": "python"
    }
  },
  "cells": [
    {
      "cell_type": "markdown",
      "metadata": {
        "id": "view-in-github",
        "colab_type": "text"
      },
      "source": [
        "<a href=\"https://colab.research.google.com/github/Sweetmonee/DataAnalytics/blob/main/%EC%A0%95%EA%B7%9C%ED%99%94_%EC%97%AC%EC%A1%B4%EC%8A%A8_%EB%B0%95%EC%8A%A4%EC%B9%B5%EC%8A%A4.ipynb\" target=\"_parent\"><img src=\"https://colab.research.google.com/assets/colab-badge.svg\" alt=\"Open In Colab\"/></a>"
      ]
    },
    {
      "cell_type": "code",
      "execution_count": null,
      "metadata": {
        "id": "dzJD7O3SDfug"
      },
      "outputs": [],
      "source": [
        "import pandas as pd\n",
        "import numpy as np\n",
        "\n",
        "df = pd.read_csv('/kaggle/input/bigdatacertificationkr/basic1.csv')\n",
        "\n",
        "# 20세 이상 데이터 추출\n",
        "df1 = df[df['age'] >= 20].reset_index(drop = True)\n",
        "df1['filled_f1'] = df1['f1'].fillna(df1['f1'].mode(dropna = True)[0])\n",
        "\n",
        "#여존스 박스칵스 변환\n",
        "from sklearn.preprocessing import power_transform\n",
        "\n",
        "df1['y_f1'] = power_transform(df1[['filled_f1']], standardize = False)\n",
        "df1['b_f1'] = power_transform(df1[['filled_f1']], method = 'box-cox', standardize = False)\n",
        "\n",
        "# 차이값 정보가 담긴 컬럼 생성\n",
        "\n",
        "df1['y_f1_b_f1_difference'] = abs(df1['y_f1'] - df1['b_f1'])\n",
        "\n",
        "answer = round(df1['y_f1_b_f1_difference'].sum(), 2)\n",
        "answer"
      ]
    }
  ]
}