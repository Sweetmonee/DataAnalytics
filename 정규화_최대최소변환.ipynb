{
  "nbformat": 4,
  "nbformat_minor": 0,
  "metadata": {
    "colab": {
      "provenance": [],
      "authorship_tag": "ABX9TyMYroFTWDGxD515ZH1WwmSi",
      "include_colab_link": true
    },
    "kernelspec": {
      "name": "python3",
      "display_name": "Python 3"
    },
    "language_info": {
      "name": "python"
    }
  },
  "cells": [
    {
      "cell_type": "markdown",
      "metadata": {
        "id": "view-in-github",
        "colab_type": "text"
      },
      "source": [
        "<a href=\"https://colab.research.google.com/github/Sweetmonee/DataAnalytics/blob/main/%EC%A0%95%EA%B7%9C%ED%99%94_%EC%B5%9C%EB%8C%80%EC%B5%9C%EC%86%8C%EB%B3%80%ED%99%98.ipynb\" target=\"_parent\"><img src=\"https://colab.research.google.com/assets/colab-badge.svg\" alt=\"Open In Colab\"/></a>"
      ]
    },
    {
      "cell_type": "code",
      "execution_count": null,
      "metadata": {
        "id": "w6EmcI8cUjdM"
      },
      "outputs": [],
      "source": [
        "# 라이브러리 및 데이터 불러오기\n",
        "import pandas as pd\n",
        "import numpy as np\n",
        "\n",
        "df = pd.read_csv('/kaggle/input/bigdatacertificationkr/basic1.csv')\n",
        "\n",
        "# 최대-최소 정규화\n",
        "from sklearn.preprocessing import MinMaxScaler\n",
        "\n",
        "mms = MinMaxScaler()\n",
        "\n",
        "df['Normalized_f5_mms'] = mms.fit_transform(df[['f5']])\n",
        "\n",
        "#상위 5% 하위 5%\n",
        "df1 = df.sort_values('Normalized_f5_mms', ascending = False).reset_index(drop = True)\n",
        "df1_95 = df1.head(int(len(df1) * 0.05))\n",
        "df1_05 = df1.tail(int(len(df1) * 0.05))\n",
        "\n",
        "# 정답\n",
        "answer = sum(df1_95['Normalized_f5_mms']) + sum(df1_05['Normalized_f5_mms'])\n",
        "print(answer)\n"
      ]
    }
  ]
}