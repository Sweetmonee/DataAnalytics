{
  "nbformat": 4,
  "nbformat_minor": 0,
  "metadata": {
    "colab": {
      "provenance": [],
      "authorship_tag": "ABX9TyMmmLiCSV84+fynV5lAYGDE",
      "include_colab_link": true
    },
    "kernelspec": {
      "name": "python3",
      "display_name": "Python 3"
    },
    "language_info": {
      "name": "python"
    }
  },
  "cells": [
    {
      "cell_type": "markdown",
      "metadata": {
        "id": "view-in-github",
        "colab_type": "text"
      },
      "source": [
        "<a href=\"https://colab.research.google.com/github/Sweetmonee/DataAnalytics/blob/main/%EC%A0%9C%EC%A3%BC%EC%9E%85%EB%8F%84%EA%B4%80%EA%B4%91%EA%B0%9D_%EC%8B%9C%EA%B3%84%EC%97%B4%EC%98%88%EC%B8%A1_ARIMA.ipynb\" target=\"_parent\"><img src=\"https://colab.research.google.com/assets/colab-badge.svg\" alt=\"Open In Colab\"/></a>"
      ]
    },
    {
      "cell_type": "code",
      "execution_count": null,
      "metadata": {
        "id": "XS_H9EOnqcm1"
      },
      "outputs": [],
      "source": [
        "import pandas as pd\n",
        "import numpy as np\n",
        "import matplotlib.pyplot as plt\n",
        "from statsmodels.tsa.arima.model import ARIMA\n",
        "from statsmodels.graphics.tsaplots import plot_acf, plot_pacf\n",
        "from statsmodels.tsa.stattools import adfuller\n",
        "\n",
        "# 시계열 데이터 불러오기\n",
        "data = pd.read_csv('df.csv', parse_dates = ['Year'])\n",
        "df = data.copy()\n",
        "\n",
        "# 정상성 확인을 위한 Augmented Dickey-Fuller 검정\n",
        "def test_stationarity(timeseries):\n",
        "    result = adfuller(timeseries, autolag='AIC')\n",
        "    print(f'ADF Statistic: {result[0]}')\n",
        "    print(f'p-value: {result[1]}')\n",
        "    print(f'Critical Values: {result[4]}')\n",
        "\n",
        "# 정상성 확인\n",
        "test_stationarity(df['Domestic Tourist'])\n",
        "\n",
        "# 차분을 통한 정상성 확보\n",
        "df['diff'] = df['Domestic Tourist'].diff().dropna()\n",
        "df = df.dropna(subset = ['diff'])\n",
        "# 정상성 재확인\n",
        "test_stationarity(df['diff'])\n",
        "\n",
        "# ACF 및 PACF 그래프를 통한 차수 선택\n",
        "plot_acf(df['diff'], lags=20)\n",
        "plot_pacf(df['diff'], lags=20)\n",
        "plt.show()\n",
        "\n",
        "# ARIMA 모델 구축\n",
        "p, d, q = 1, 1, 0\n",
        "model = ARIMA(df['Domestic Tourist'], order=(p, d, q))\n",
        "results = model.fit()\n",
        "\n",
        "# 예측\n",
        "forecast_steps = 10\n",
        "forecast = results.get_forecast(steps=forecast_steps)\n",
        "forecast_index = np.arange(len(df), len(df) + forecast_steps)\n",
        "\n",
        "# 결과 시각화\n",
        "plt.plot(df['Domestic Tourist'], label='Observed')\n",
        "plt.plot(forecast_index, forecast.predicted_mean, color='red', label='Forecast')\n",
        "plt.fill_between(forecast_index, forecast.conf_int().iloc[:,0], forecast.conf_int().iloc[:,1], color='red', alpha=0.3)\n",
        "plt.legend()\n",
        "plt.show()"
      ]
    }
  ]
}