{
  "nbformat": 4,
  "nbformat_minor": 0,
  "metadata": {
    "colab": {
      "provenance": [],
      "authorship_tag": "ABX9TyOlXuMKAt3VSHOLfcIaOeZF",
      "include_colab_link": true
    },
    "kernelspec": {
      "name": "python3",
      "display_name": "Python 3"
    },
    "language_info": {
      "name": "python"
    }
  },
  "cells": [
    {
      "cell_type": "markdown",
      "metadata": {
        "id": "view-in-github",
        "colab_type": "text"
      },
      "source": [
        "<a href=\"https://colab.research.google.com/github/Sweetmonee/DataAnalytics/blob/main/%EC%A1%B0%EA%B1%B4_%EB%91%90%EA%B0%9C%EC%97%90_%EB%94%B0%EB%A5%B8_%EC%83%81%EC%9C%84_%EA%B0%92_Groupby.ipynb\" target=\"_parent\"><img src=\"https://colab.research.google.com/assets/colab-badge.svg\" alt=\"Open In Colab\"/></a>"
      ]
    },
    {
      "cell_type": "code",
      "execution_count": null,
      "metadata": {
        "id": "tCxbGZDMxMgE"
      },
      "outputs": [],
      "source": [
        "# city와 f4를 기준으로 f5의 평균값을 구한 다음, f5를 기준으로 상위 7개 값을 모두 더해 출력하시오 (소수점 둘째자리까지 출력)\n",
        "# - 데이터셋 : basic1.csv\n",
        "# - 오른쪽 상단 copy&edit 클릭 -> 예상문제 풀이 시작\n",
        "# - File -> Editor Type -> Script\n",
        "import pandas as pd\n",
        "import numpy as np\n",
        "\n",
        "df = pd.read_csv('/kaggle/input/bigdatacertificationkr/basic1.csv')\n",
        "\n",
        "# city와 f4를 기준으로하는 f5의 평균 출력\n",
        "df1 = df.groupby(['city','f4'], as_index = False).mean().reset_index(drop = True)\n",
        "#f5 상위 7개 출력\n",
        "df2 = df1.sort_values('f5', ascending = False).head(7)\n",
        "# 정답구하기\n",
        "answer = round(df2['f5'].sum(), 2)\n",
        "print(answer)"
      ]
    }
  ]
}