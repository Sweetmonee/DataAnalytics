{
  "nbformat": 4,
  "nbformat_minor": 0,
  "metadata": {
    "colab": {
      "provenance": [],
      "authorship_tag": "ABX9TyPNis1tVCGwDrIxlJE7EngY",
      "include_colab_link": true
    },
    "kernelspec": {
      "name": "python3",
      "display_name": "Python 3"
    },
    "language_info": {
      "name": "python"
    }
  },
  "cells": [
    {
      "cell_type": "markdown",
      "metadata": {
        "id": "view-in-github",
        "colab_type": "text"
      },
      "source": [
        "<a href=\"https://colab.research.google.com/github/Sweetmonee/DataAnalytics/blob/main/%EC%A1%B0%EA%B1%B4%EC%9D%84_%EB%A7%8C%EC%A1%B1%ED%95%98%EB%8A%94_%EA%B0%92_%EB%B3%80%EA%B2%BD_replace.ipynb\" target=\"_parent\"><img src=\"https://colab.research.google.com/assets/colab-badge.svg\" alt=\"Open In Colab\"/></a>"
      ]
    },
    {
      "cell_type": "code",
      "execution_count": null,
      "metadata": {
        "id": "MX-Rl5hDvXnQ"
      },
      "outputs": [],
      "source": [
        "#데이터 읽어오기\n",
        "import pandas as pd\n",
        "import numpy as np\n",
        "\n",
        "df = pd.read_csv('/kaggle/input/bigdatacertificationkr/basic1.csv')\n",
        "\n",
        "# 'ESFJ' in 'f4' to 'ISFJ'\n",
        "\n",
        "df1 = df.copy()\n",
        "df1[df1['f4'] == 'ESFJ']['f4'] = 'ISFJ'\n",
        "## 다른방법\n",
        "## df['f4'] = df['f4'].replace('ESFJ', 'ISFJ')\n",
        "\n",
        "# ['city'] == '경기' & ['f4'] == 'ISFJ'\n",
        "\n",
        "answer = df1[(df1['city'] == '경기') & (df1['f4'] == 'ISFJ')]['age'].max()\n",
        "answer"
      ]
    }
  ]
}