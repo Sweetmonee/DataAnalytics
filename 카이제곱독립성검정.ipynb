{
  "nbformat": 4,
  "nbformat_minor": 0,
  "metadata": {
    "colab": {
      "provenance": [],
      "authorship_tag": "ABX9TyO1CdJlAByYO5435XBFHhLh",
      "include_colab_link": true
    },
    "kernelspec": {
      "name": "python3",
      "display_name": "Python 3"
    },
    "language_info": {
      "name": "python"
    }
  },
  "cells": [
    {
      "cell_type": "markdown",
      "metadata": {
        "id": "view-in-github",
        "colab_type": "text"
      },
      "source": [
        "<a href=\"https://colab.research.google.com/github/Sweetmonee/DataAnalytics/blob/main/%EC%B9%B4%EC%9D%B4%EC%A0%9C%EA%B3%B1%EB%8F%85%EB%A6%BD%EC%84%B1%EA%B2%80%EC%A0%95.ipynb\" target=\"_parent\"><img src=\"https://colab.research.google.com/assets/colab-badge.svg\" alt=\"Open In Colab\"/></a>"
      ]
    },
    {
      "cell_type": "code",
      "execution_count": null,
      "metadata": {
        "id": "Y_S2ED7tFr8U"
      },
      "outputs": [],
      "source": [
        "import pandas as pd\n",
        "from scipy.stats import chi2_contingency\n",
        "\n",
        "df = pd.DataFrame({'합격' : [100,130], '불합격' : [200, 170]}, index = ['남자','여자'])\n",
        "\n",
        "\n",
        "stats, p_value, degree_of_freedom, expectation = chi2_contingency(df)\n",
        "\n",
        "stats, p_value, degree_of_freedom, expectation\n",
        "\n",
        "print(f'검정 통계량은: {stats}입니다')\n",
        "print(f'p_value는: {p_value}입니다')\n",
        "if p_value > 0.05:\n",
        "    print(f'유의수준 0.05보다 크므로 성별과 시험합격은 독립적입니다. 귀무 가설을 채택합니다.')\n",
        "else:\n",
        "    print(f'유의수준 0.05보다 작으므로 성별과 시험합격은 독립적이지 않습니다. 귀무 가설을 기각합니다.')\n",
        "\n",
        "print(f'자유도는: {degree_of_freedom}입니다')\n",
        "print(f'남자의 합격빈도는: {expectation[0][0]}입니다')"
      ]
    }
  ]
}