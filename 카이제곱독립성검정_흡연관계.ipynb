{
  "nbformat": 4,
  "nbformat_minor": 0,
  "metadata": {
    "colab": {
      "provenance": [],
      "authorship_tag": "ABX9TyPUb0aXU7vkWiznbBteWLJp",
      "include_colab_link": true
    },
    "kernelspec": {
      "name": "python3",
      "display_name": "Python 3"
    },
    "language_info": {
      "name": "python"
    }
  },
  "cells": [
    {
      "cell_type": "markdown",
      "metadata": {
        "id": "view-in-github",
        "colab_type": "text"
      },
      "source": [
        "<a href=\"https://colab.research.google.com/github/Sweetmonee/DataAnalytics/blob/main/%EC%B9%B4%EC%9D%B4%EC%A0%9C%EA%B3%B1%EB%8F%85%EB%A6%BD%EC%84%B1%EA%B2%80%EC%A0%95_%ED%9D%A1%EC%97%B0%EA%B4%80%EA%B3%84.ipynb\" target=\"_parent\"><img src=\"https://colab.research.google.com/assets/colab-badge.svg\" alt=\"Open In Colab\"/></a>"
      ]
    },
    {
      "cell_type": "markdown",
      "source": [
        "A 도시의 남성 600명과 여성 550명이 있다. 남성들 중 흡연자 비율은 0.2이며 여성들 중 흡연자 비율은 0.26이다.\n",
        "남성과 여성 간에 흡연 여부에 따른 인구 비율이 다른지 확인하고 싶다. 유의 수준 0.05하 귀무가설에 대해 기각 / 채택 여부와 p-value값을 각각 출력하라"
      ],
      "metadata": {
        "id": "uMtHanSS5VFZ"
      }
    },
    {
      "cell_type": "code",
      "execution_count": 8,
      "metadata": {
        "colab": {
          "base_uri": "https://localhost:8080/"
        },
        "id": "o5Gahri25Unp",
        "outputId": "22af8f6d-ed04-4579-e35d-de21ce9a4285"
      },
      "outputs": [
        {
          "output_type": "stream",
          "name": "stdout",
          "text": [
            "       0      1\n",
            "0  120.0  480.0\n",
            "1  143.0  407.0\n",
            "5.521247671393307 0.018786854975740768\n"
          ]
        }
      ],
      "source": [
        "#카이제곱 독립성 검정\n",
        "import pandas as pd\n",
        "import numpy as np\n",
        "from scipy.stats import chi2_contingency\n",
        "\n",
        "male_smoker = 600 * 0.2\n",
        "male_non_smoker = 600 - male_smoker\n",
        "\n",
        "female_smoker = 550 * 0.26\n",
        "female_non_smoker = 550 - female_smoker\n",
        "\n",
        "df = pd.DataFrame([[male_smoker, male_non_smoker], [female_smoker, female_non_smoker]])\n",
        "print(df)\n",
        "\n",
        "chi_stats, chi_p_value, dof, expected = chi2_contingency(df)\n",
        "\n",
        "print(chi_stats, chi_p_value)"
      ]
    },
    {
      "cell_type": "code",
      "source": [
        "import numpy as np\n",
        "from scipy.stats import chi2_contingency\n",
        "\n",
        "# 남성과 여성의 인구 수\n",
        "total_male = 600\n",
        "total_female = 550\n",
        "\n",
        "# 남성과 여성 중 흡연자의 비율\n",
        "smoking_ratio_male = 0.2\n",
        "smoking_ratio_female = 0.26\n",
        "\n",
        "# 흡연자와 비흡연자의 인구 수 계산\n",
        "smoking_male = int(total_male * smoking_ratio_male)\n",
        "non_smoking_male = int(total_male - smoking_male)\n",
        "\n",
        "smoking_female = total_female * smoking_ratio_female\n",
        "non_smoking_female = total_female - smoking_female\n",
        "\n",
        "# 데이터 배열 생성 (빈도로 변환)\n",
        "data = np.array([[smoking_male, non_smoking_male], [smoking_female, non_smoking_female]])\n",
        "\n",
        "# 카이제곱 검정 수행\n",
        "chi2_stat, p_val, dof, expected = chi2_contingency(data)\n",
        "\n",
        "print(data)"
      ],
      "metadata": {
        "colab": {
          "base_uri": "https://localhost:8080/"
        },
        "id": "F5g9A7w962LS",
        "outputId": "179eed51-2609-450e-ef12-d2127e08db36"
      },
      "execution_count": 3,
      "outputs": [
        {
          "output_type": "stream",
          "name": "stdout",
          "text": [
            "[[120. 480.]\n",
            " [143. 407.]]\n"
          ]
        }
      ]
    }
  ]
}