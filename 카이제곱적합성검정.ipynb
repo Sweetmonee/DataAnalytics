{
  "nbformat": 4,
  "nbformat_minor": 0,
  "metadata": {
    "colab": {
      "provenance": [],
      "authorship_tag": "ABX9TyOCfGbaEuJ6Myl2VuGcpFNM",
      "include_colab_link": true
    },
    "kernelspec": {
      "name": "python3",
      "display_name": "Python 3"
    },
    "language_info": {
      "name": "python"
    }
  },
  "cells": [
    {
      "cell_type": "markdown",
      "metadata": {
        "id": "view-in-github",
        "colab_type": "text"
      },
      "source": [
        "<a href=\"https://colab.research.google.com/github/Sweetmonee/DataAnalytics/blob/main/%EC%B9%B4%EC%9D%B4%EC%A0%9C%EA%B3%B1%EC%A0%81%ED%95%A9%EC%84%B1%EA%B2%80%EC%A0%95.ipynb\" target=\"_parent\"><img src=\"https://colab.research.google.com/assets/colab-badge.svg\" alt=\"Open In Colab\"/></a>"
      ]
    },
    {
      "cell_type": "code",
      "execution_count": null,
      "metadata": {
        "id": "tqJ50Ry6tu_a"
      },
      "outputs": [],
      "source": [
        "from scipy.stats import chisquare\n",
        "\n",
        "observed_frequency = [30, 60, 50, 40, 20]\n",
        "expected_frequency = [200*0.2, 200* 0.3, 200*0.25, 200*0.15, 200* 0.1]\n",
        "\n",
        "chi_stats, p_value = chisquare(observed_frequency,expected_frequency)\n",
        "chi_stats, p_value"
      ]
    }
  ]
}