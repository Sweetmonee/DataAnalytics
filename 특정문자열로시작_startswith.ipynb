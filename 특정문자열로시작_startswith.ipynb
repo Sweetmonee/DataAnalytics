{
  "nbformat": 4,
  "nbformat_minor": 0,
  "metadata": {
    "colab": {
      "provenance": [],
      "authorship_tag": "ABX9TyO8R2yGAaQ2ZC1hCS6TUzNC",
      "include_colab_link": true
    },
    "kernelspec": {
      "name": "python3",
      "display_name": "Python 3"
    },
    "language_info": {
      "name": "python"
    }
  },
  "cells": [
    {
      "cell_type": "markdown",
      "metadata": {
        "id": "view-in-github",
        "colab_type": "text"
      },
      "source": [
        "<a href=\"https://colab.research.google.com/github/Sweetmonee/DataAnalytics/blob/main/%ED%8A%B9%EC%A0%95%EB%AC%B8%EC%9E%90%EC%97%B4%EB%A1%9C%EC%8B%9C%EC%9E%91_startswith.ipynb\" target=\"_parent\"><img src=\"https://colab.research.google.com/assets/colab-badge.svg\" alt=\"Open In Colab\"/></a>"
      ]
    },
    {
      "cell_type": "code",
      "execution_count": null,
      "metadata": {
        "id": "r2I-_Vjw0c9h"
      },
      "outputs": [],
      "source": [
        "import pandas as pd\n",
        "df = pd.read_csv(\"/kaggle/input/bigdatacertificationkr/basic1.csv\")\n",
        "\n",
        "# 'f4'가 E로 시작하면서 'city' == '서울'\n",
        "\n",
        "df1 = df[(df['f4'].str.startswith('E')) & (df['city'] == '부산')]\n",
        "\n",
        "answer = len(df1)\n",
        "print(answer)"
      ]
    }
  ]
}