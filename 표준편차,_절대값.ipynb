{
  "nbformat": 4,
  "nbformat_minor": 0,
  "metadata": {
    "colab": {
      "provenance": [],
      "authorship_tag": "ABX9TyP20PzmXqveNYIxV96IwH2l",
      "include_colab_link": true
    },
    "kernelspec": {
      "name": "python3",
      "display_name": "Python 3"
    },
    "language_info": {
      "name": "python"
    }
  },
  "cells": [
    {
      "cell_type": "markdown",
      "metadata": {
        "id": "view-in-github",
        "colab_type": "text"
      },
      "source": [
        "<a href=\"https://colab.research.google.com/github/Sweetmonee/DataAnalytics/blob/main/%ED%91%9C%EC%A4%80%ED%8E%B8%EC%B0%A8%2C_%EC%A0%88%EB%8C%80%EA%B0%92.ipynb\" target=\"_parent\"><img src=\"https://colab.research.google.com/assets/colab-badge.svg\" alt=\"Open In Colab\"/></a>"
      ]
    },
    {
      "cell_type": "code",
      "execution_count": null,
      "metadata": {
        "id": "tu0_f56wo_N9"
      },
      "outputs": [],
      "source": [
        "import pandas as pd\n",
        "import numpy as np\n",
        "\n",
        "df = pd.read_csv('/kaggle/input/bigdatacertificationkr/basic1.csv')\n",
        "\n",
        "#EDA\n",
        "# df.isnull().sum()\n",
        "\n",
        "#조건에 맞는 데이터 프레임으로 정리\n",
        "df_f4_enfj = df[df['f4'] == 'ENFJ'].reset_index(drop = True)\n",
        "df_f4_infp = df[df['f4'] == 'INFP'].reset_index(drop = True)\n",
        "# df_f4_enfj,df_f4_infp\n",
        "\n",
        "#표준편차 구하기\n",
        "\n",
        "df_f4_enfj_std_f1 = df_f4_enfj['f1'].std()\n",
        "df_f4_infp_std_f1 = df_f4_infp['f1'].std()\n",
        "df_f4_enfj_std_f1, df_f4_infp_std_f1\n",
        "\n",
        "answer = abs(df_f4_enfj_std_f1 - df_f4_infp_std_f1)\n",
        "print(answer)"
      ]
    }
  ]
}