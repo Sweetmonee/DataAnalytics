{
  "nbformat": 4,
  "nbformat_minor": 0,
  "metadata": {
    "colab": {
      "provenance": [],
      "authorship_tag": "ABX9TyOUyhGc//V46TbWFKuCbH63",
      "include_colab_link": true
    },
    "kernelspec": {
      "name": "python3",
      "display_name": "Python 3"
    },
    "language_info": {
      "name": "python"
    }
  },
  "cells": [
    {
      "cell_type": "markdown",
      "metadata": {
        "id": "view-in-github",
        "colab_type": "text"
      },
      "source": [
        "<a href=\"https://colab.research.google.com/github/Sweetmonee/DataAnalytics/blob/main/%ED%95%99%EA%B5%90_%EB%8D%B0%EC%9D%B4%ED%84%B0%2C_%EB%B2%94%EC%A3%84_%EB%8D%B0%EC%9D%B4%ED%84%B0_%EB%B6%84%EC%84%9D.ipynb\" target=\"_parent\"><img src=\"https://colab.research.google.com/assets/colab-badge.svg\" alt=\"Open In Colab\"/></a>"
      ]
    },
    {
      "cell_type": "markdown",
      "source": [
        "국내 학교 및 학급 인원 수"
      ],
      "metadata": {
        "id": "b4mKsDAJyv7L"
      }
    },
    {
      "cell_type": "code",
      "execution_count": 2,
      "metadata": {
        "colab": {
          "base_uri": "https://localhost:8080/"
        },
        "id": "0vVJD0zdyuzT",
        "outputId": "91783fa5-72a6-4b58-f247-55dd69089fac"
      },
      "outputs": [
        {
          "output_type": "stream",
          "name": "stdout",
          "text": [
            "<class 'pandas.core.frame.DataFrame'>\n",
            "RangeIndex: 4960 entries, 0 to 4959\n",
            "Data columns (total 5 columns):\n",
            " #   Column      Non-Null Count  Dtype \n",
            "---  ------      --------------  ----- \n",
            " 0   학교명         4960 non-null   object\n",
            " 1   시도          4960 non-null   object\n",
            " 2   학교세부유형      4960 non-null   object\n",
            " 3   일반학급_학생수_계  4960 non-null   int64 \n",
            " 4   교원수_총계_계    4960 non-null   int64 \n",
            "dtypes: int64(2), object(3)\n",
            "memory usage: 193.9+ KB\n"
          ]
        }
      ],
      "source": [
        "import pandas as pd\n",
        "df = pd.read_csv('https://raw.githubusercontent.com/Datamanim/datarepo/main/krdatacertificate/e6_p1_2.csv')\n",
        "df.info()"
      ]
    },
    {
      "cell_type": "markdown",
      "source": [
        "학교 세부유형이 일반중학교인 학교들 중 일반중학교 숫자가 2번째로 많은 시도의 일반중학교 데이터만 필터하여 해당 시도의 교원 한명 당 맡은 학생수가 가장 많은 학교를 찾아서 해당 학교의 교원수를 출력하라"
      ],
      "metadata": {
        "id": "Qw40PHNty0CL"
      }
    },
    {
      "cell_type": "code",
      "source": [
        "df_ilban = df[df['학교세부유형'] == '일반중학교'].reset_index(drop = True)\n",
        "df_ilban['count'] = 1\n",
        "df_ilban_groupby_sido = df_ilban.groupby(['시도'], as_index = False).sum().sort_values('count', ascending = False) # 두번째로 많은 시도는 서울\n",
        "# 2번째로 많은 시도의 일반중학교 데이터만 필터\n",
        "df_ilban_seoul = df_ilban[df_ilban['시도'] == '서울']\n",
        "# 학생수/교원 컬럼 생성\n",
        "df_ilban_seoul['학생수/교원수'] = df_ilban_seoul['일반학급_학생수_계'] / df_ilban_seoul['교원수_총계_계']\n",
        "# 학생수/교원수가 가장 많은 학교를 찾기위해 정렬\n",
        "df_ilban_seoul = df_ilban_seoul.sort_values('학생수/교원수', ascending = False)\n",
        "#단국대학교사범대학부속중학교, 의 학교의 교원수는? 교원수_총계_계 33\n",
        "print(df_ilban_seoul.iloc[0]['교원수_총계_계'])\n",
        "answer = 33"
      ],
      "metadata": {
        "colab": {
          "base_uri": "https://localhost:8080/"
        },
        "id": "kVNxb1Egy3l1",
        "outputId": "f8f8c8d9-aff4-4614-a56e-0b32728773eb"
      },
      "execution_count": 13,
      "outputs": [
        {
          "output_type": "stream",
          "name": "stdout",
          "text": [
            "33\n"
          ]
        },
        {
          "output_type": "stream",
          "name": "stderr",
          "text": [
            "<ipython-input-13-8aa337097de2>:3: FutureWarning: The default value of numeric_only in DataFrameGroupBy.sum is deprecated. In a future version, numeric_only will default to False. Either specify numeric_only or select only columns which should be valid for the function.\n",
            "  df_ilban_groupby_sido = df_ilban.groupby(['시도'], as_index = False).sum().sort_values('count', ascending = False) # 두번째로 많은 시도는 서울\n",
            "<ipython-input-13-8aa337097de2>:7: SettingWithCopyWarning: \n",
            "A value is trying to be set on a copy of a slice from a DataFrame.\n",
            "Try using .loc[row_indexer,col_indexer] = value instead\n",
            "\n",
            "See the caveats in the documentation: https://pandas.pydata.org/pandas-docs/stable/user_guide/indexing.html#returning-a-view-versus-a-copy\n",
            "  df_ilban_seoul['학생수/교원수'] = df_ilban_seoul['일반학급_학생수_계'] / df_ilban_seoul['교원수_총계_계']\n"
          ]
        }
      ]
    },
    {
      "cell_type": "markdown",
      "source": [
        "DataUrl = https://raw.githubusercontent.com/Datamanim/datarepo/main/krdatacertificate/e6_p1_3.csv 5대범죄 발생현황 : https://www.data.go.kr/data/15085721/fileData.do#layer_data_infomation & 후처리"
      ],
      "metadata": {
        "id": "0yxGF9g91cR6"
      }
    },
    {
      "cell_type": "markdown",
      "source": [
        "**5대 범죄(절도, 사기, 배임, 방화, 폭행)의 월별 총 발생건수를 총범죄수라고 표현하자. 18,19년의 각각 분기별 총범죄수의 월평균 값을 구했을때 최대값을 가지는 년도와 분기를 구하고 해당 분기의 최댓값의 사기가 발생한 월의 사기 발생건수를 출력하라(1분기:1,2,3월 / 2분기 : 4,5,6월 / 3분기 7,8,9월 / 4분기 10,11,12월 , 1분기 월평균 : 1,2,3월의 총범죄수 평균) **"
      ],
      "metadata": {
        "id": "ljtp_zZ_1dUf"
      }
    },
    {
      "cell_type": "code",
      "source": [
        "import pandas as pd\n",
        "import numpy as np\n",
        "df = pd.read_csv('https://raw.githubusercontent.com/Datamanim/datarepo/main/krdatacertificate/e6_p1_3.csv')\n",
        "\n",
        "# 총범죄수 컬럼 생성\n",
        "\n",
        "df['총범죄수'] = df['절도'] + df['사기'] + df['배임']+ df['방화'] + df['폭행']\n",
        "# 분기 컬럼 생성\n",
        "df['분기'] = np.nan\n",
        "\n",
        "for i in range(0,len(df), 3):\n",
        "  df['분기'][i] = i + 1\n",
        "\n",
        "df['분기'] = df['분기'].fillna(method = 'ffill')\n",
        "\n",
        "# 월평균값으로 그룹바이\n",
        "\n",
        "df1 = df.groupby(['분기']).mean().sort_values('총범죄수', ascending = False)\n",
        "# 16을 가진 분기가 최대 범죄수 기록\n",
        "df2 = df[df['분기'] == 16]\n",
        "#19년도 2분기의 최댓값 사기가 발생한 월의 사기 발생건수를 출력\n",
        "df3 = df2['사기'].max()#27766\n",
        "print(df2)\n",
        "answer = df3"
      ],
      "metadata": {
        "colab": {
          "base_uri": "https://localhost:8080/"
        },
        "id": "0RxLKC3V1csp",
        "outputId": "54b7e1e7-504e-4f74-8628-adcf1a7464b1"
      },
      "execution_count": 26,
      "outputs": [
        {
          "output_type": "stream",
          "name": "stdout",
          "text": [
            "        범죄분류     절도     사기   배임   방화     폭행   총범죄수    분기\n",
            "15  2019년_4월  15305  27125  478  138  13322  56368  16.0\n",
            "16  2019년_5월  17333  27766  509  131  14572  60311  16.0\n",
            "17  2019년_6월  16937  25822  491  101  15285  58636  16.0\n"
          ]
        },
        {
          "output_type": "stream",
          "name": "stderr",
          "text": [
            "<ipython-input-26-99797d9f785d>:12: SettingWithCopyWarning: \n",
            "A value is trying to be set on a copy of a slice from a DataFrame\n",
            "\n",
            "See the caveats in the documentation: https://pandas.pydata.org/pandas-docs/stable/user_guide/indexing.html#returning-a-view-versus-a-copy\n",
            "  df['분기'][i] = i + 1\n",
            "<ipython-input-26-99797d9f785d>:18: FutureWarning: The default value of numeric_only in DataFrameGroupBy.mean is deprecated. In a future version, numeric_only will default to False. Either specify numeric_only or select only columns which should be valid for the function.\n",
            "  df1 = df.groupby(['분기']).mean().sort_values('총범죄수', ascending = False)\n"
          ]
        }
      ]
    }
  ]
}